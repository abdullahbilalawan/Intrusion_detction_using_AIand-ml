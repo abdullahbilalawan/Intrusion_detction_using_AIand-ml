{
 "cells": [
  {
   "cell_type": "markdown",
   "metadata": {},
   "source": [
    "# LIBRARIES USED"
   ]
  },
  {
   "cell_type": "code",
   "execution_count": 6,
   "metadata": {},
   "outputs": [],
   "source": [
    "# libraries we have used\n",
    "import pandas as pd \n",
    "import numpy as np\n",
    "import matplotlib.pyplot as plt\n",
    "import seaborn as sn\n",
    "import sklearn"
   ]
  },
  {
   "cell_type": "markdown",
   "metadata": {},
   "source": [
    "# IMPORTING DATASET"
   ]
  },
  {
   "cell_type": "code",
   "execution_count": 7,
   "metadata": {},
   "outputs": [],
   "source": [
    "#================================STEP 1:  IMPORTING DATASETS AND BASIC INFO=============================================="
   ]
  },
  {
   "cell_type": "code",
   "execution_count": 8,
   "metadata": {},
   "outputs": [],
   "source": [
    "\n",
    "# importing the datset and naming the columns according to the dataset source\n",
    "\n",
    "# datset source http://205.174.165.80/CICDataset/NSL-KDD/Dataset/\n",
    "\n",
    "\n",
    "# column names imported from the datset\n",
    "\n",
    "\n",
    "col_names = [\"duration\",\"protocol_type\",\"service\",\"flag\",\"src_bytes\",\n",
    "    \"dst_bytes\",\"land\",\"wrong_fragment\",\"urgent\",\"hot\",\"num_failed_logins\",\n",
    "    \"logged_in\",\"num_compromised\",\"root_shell\",\"su_attempted\",\"num_root\",\n",
    "    \"num_file_creations\",\"num_shells\",\"num_access_files\",\"num_outbound_cmds\",\n",
    "    \"is_host_login\",\"is_guest_login\",\"count\",\"srv_count\",\"serror_rate\",\n",
    "    \"srv_serror_rate\",\"rerror_rate\",\"srv_rerror_rate\",\"same_srv_rate\",\n",
    "    \"diff_srv_rate\",\"srv_diff_host_rate\",\"dst_host_count\",\"dst_host_srv_count\",\n",
    "    \"dst_host_same_srv_rate\",\"dst_host_diff_srv_rate\",\"dst_host_same_src_port_rate\",\n",
    "    \"dst_host_srv_diff_host_rate\",\"dst_host_serror_rate\",\"dst_host_srv_serror_rate\",\n",
    "    \"dst_host_rerror_rate\",\"dst_host_srv_rerror_rate\",\"label\",\"difficulty\"]\n",
    "\n",
    "# importing the train data into pandas dataframe\n",
    "data = pd.read_csv(\"KDDTrain+.csv\", header = None, names = col_names)\n",
    "\n",
    "\n",
    "#importing the test data into pandas dataframe\n",
    "data_test = pd.read_csv(\"KDDTest+.csv\", header =None, names= col_names)\n",
    "\n"
   ]
  },
  {
   "cell_type": "markdown",
   "metadata": {},
   "source": [
    "# CELL HEAD"
   ]
  },
  {
   "cell_type": "code",
   "execution_count": 5,
   "metadata": {
    "scrolled": true
   },
   "outputs": [
    {
     "data": {
      "text/html": [
       "<div>\n",
       "<style scoped>\n",
       "    .dataframe tbody tr th:only-of-type {\n",
       "        vertical-align: middle;\n",
       "    }\n",
       "\n",
       "    .dataframe tbody tr th {\n",
       "        vertical-align: top;\n",
       "    }\n",
       "\n",
       "    .dataframe thead th {\n",
       "        text-align: right;\n",
       "    }\n",
       "</style>\n",
       "<table border=\"1\" class=\"dataframe\">\n",
       "  <thead>\n",
       "    <tr style=\"text-align: right;\">\n",
       "      <th></th>\n",
       "      <th>duration</th>\n",
       "      <th>protocol_type</th>\n",
       "      <th>service</th>\n",
       "      <th>flag</th>\n",
       "      <th>src_bytes</th>\n",
       "      <th>dst_bytes</th>\n",
       "      <th>land</th>\n",
       "      <th>wrong_fragment</th>\n",
       "      <th>urgent</th>\n",
       "      <th>hot</th>\n",
       "      <th>...</th>\n",
       "      <th>dst_host_same_srv_rate</th>\n",
       "      <th>dst_host_diff_srv_rate</th>\n",
       "      <th>dst_host_same_src_port_rate</th>\n",
       "      <th>dst_host_srv_diff_host_rate</th>\n",
       "      <th>dst_host_serror_rate</th>\n",
       "      <th>dst_host_srv_serror_rate</th>\n",
       "      <th>dst_host_rerror_rate</th>\n",
       "      <th>dst_host_srv_rerror_rate</th>\n",
       "      <th>label</th>\n",
       "      <th>difficulty</th>\n",
       "    </tr>\n",
       "  </thead>\n",
       "  <tbody>\n",
       "    <tr>\n",
       "      <td>0</td>\n",
       "      <td>0</td>\n",
       "      <td>tcp</td>\n",
       "      <td>ftp_data</td>\n",
       "      <td>SF</td>\n",
       "      <td>491</td>\n",
       "      <td>0</td>\n",
       "      <td>0</td>\n",
       "      <td>0</td>\n",
       "      <td>0</td>\n",
       "      <td>0</td>\n",
       "      <td>...</td>\n",
       "      <td>0.17</td>\n",
       "      <td>0.03</td>\n",
       "      <td>0.17</td>\n",
       "      <td>0.00</td>\n",
       "      <td>0.00</td>\n",
       "      <td>0.00</td>\n",
       "      <td>0.05</td>\n",
       "      <td>0.00</td>\n",
       "      <td>normal</td>\n",
       "      <td>20</td>\n",
       "    </tr>\n",
       "    <tr>\n",
       "      <td>1</td>\n",
       "      <td>0</td>\n",
       "      <td>udp</td>\n",
       "      <td>other</td>\n",
       "      <td>SF</td>\n",
       "      <td>146</td>\n",
       "      <td>0</td>\n",
       "      <td>0</td>\n",
       "      <td>0</td>\n",
       "      <td>0</td>\n",
       "      <td>0</td>\n",
       "      <td>...</td>\n",
       "      <td>0.00</td>\n",
       "      <td>0.60</td>\n",
       "      <td>0.88</td>\n",
       "      <td>0.00</td>\n",
       "      <td>0.00</td>\n",
       "      <td>0.00</td>\n",
       "      <td>0.00</td>\n",
       "      <td>0.00</td>\n",
       "      <td>normal</td>\n",
       "      <td>15</td>\n",
       "    </tr>\n",
       "    <tr>\n",
       "      <td>2</td>\n",
       "      <td>0</td>\n",
       "      <td>tcp</td>\n",
       "      <td>private</td>\n",
       "      <td>S0</td>\n",
       "      <td>0</td>\n",
       "      <td>0</td>\n",
       "      <td>0</td>\n",
       "      <td>0</td>\n",
       "      <td>0</td>\n",
       "      <td>0</td>\n",
       "      <td>...</td>\n",
       "      <td>0.10</td>\n",
       "      <td>0.05</td>\n",
       "      <td>0.00</td>\n",
       "      <td>0.00</td>\n",
       "      <td>1.00</td>\n",
       "      <td>1.00</td>\n",
       "      <td>0.00</td>\n",
       "      <td>0.00</td>\n",
       "      <td>neptune</td>\n",
       "      <td>19</td>\n",
       "    </tr>\n",
       "    <tr>\n",
       "      <td>3</td>\n",
       "      <td>0</td>\n",
       "      <td>tcp</td>\n",
       "      <td>http</td>\n",
       "      <td>SF</td>\n",
       "      <td>232</td>\n",
       "      <td>8153</td>\n",
       "      <td>0</td>\n",
       "      <td>0</td>\n",
       "      <td>0</td>\n",
       "      <td>0</td>\n",
       "      <td>...</td>\n",
       "      <td>1.00</td>\n",
       "      <td>0.00</td>\n",
       "      <td>0.03</td>\n",
       "      <td>0.04</td>\n",
       "      <td>0.03</td>\n",
       "      <td>0.01</td>\n",
       "      <td>0.00</td>\n",
       "      <td>0.01</td>\n",
       "      <td>normal</td>\n",
       "      <td>21</td>\n",
       "    </tr>\n",
       "    <tr>\n",
       "      <td>4</td>\n",
       "      <td>0</td>\n",
       "      <td>tcp</td>\n",
       "      <td>http</td>\n",
       "      <td>SF</td>\n",
       "      <td>199</td>\n",
       "      <td>420</td>\n",
       "      <td>0</td>\n",
       "      <td>0</td>\n",
       "      <td>0</td>\n",
       "      <td>0</td>\n",
       "      <td>...</td>\n",
       "      <td>1.00</td>\n",
       "      <td>0.00</td>\n",
       "      <td>0.00</td>\n",
       "      <td>0.00</td>\n",
       "      <td>0.00</td>\n",
       "      <td>0.00</td>\n",
       "      <td>0.00</td>\n",
       "      <td>0.00</td>\n",
       "      <td>normal</td>\n",
       "      <td>21</td>\n",
       "    </tr>\n",
       "    <tr>\n",
       "      <td>5</td>\n",
       "      <td>0</td>\n",
       "      <td>tcp</td>\n",
       "      <td>private</td>\n",
       "      <td>REJ</td>\n",
       "      <td>0</td>\n",
       "      <td>0</td>\n",
       "      <td>0</td>\n",
       "      <td>0</td>\n",
       "      <td>0</td>\n",
       "      <td>0</td>\n",
       "      <td>...</td>\n",
       "      <td>0.07</td>\n",
       "      <td>0.07</td>\n",
       "      <td>0.00</td>\n",
       "      <td>0.00</td>\n",
       "      <td>0.00</td>\n",
       "      <td>0.00</td>\n",
       "      <td>1.00</td>\n",
       "      <td>1.00</td>\n",
       "      <td>neptune</td>\n",
       "      <td>21</td>\n",
       "    </tr>\n",
       "    <tr>\n",
       "      <td>6</td>\n",
       "      <td>0</td>\n",
       "      <td>tcp</td>\n",
       "      <td>private</td>\n",
       "      <td>S0</td>\n",
       "      <td>0</td>\n",
       "      <td>0</td>\n",
       "      <td>0</td>\n",
       "      <td>0</td>\n",
       "      <td>0</td>\n",
       "      <td>0</td>\n",
       "      <td>...</td>\n",
       "      <td>0.04</td>\n",
       "      <td>0.05</td>\n",
       "      <td>0.00</td>\n",
       "      <td>0.00</td>\n",
       "      <td>1.00</td>\n",
       "      <td>1.00</td>\n",
       "      <td>0.00</td>\n",
       "      <td>0.00</td>\n",
       "      <td>neptune</td>\n",
       "      <td>21</td>\n",
       "    </tr>\n",
       "    <tr>\n",
       "      <td>7</td>\n",
       "      <td>0</td>\n",
       "      <td>tcp</td>\n",
       "      <td>private</td>\n",
       "      <td>S0</td>\n",
       "      <td>0</td>\n",
       "      <td>0</td>\n",
       "      <td>0</td>\n",
       "      <td>0</td>\n",
       "      <td>0</td>\n",
       "      <td>0</td>\n",
       "      <td>...</td>\n",
       "      <td>0.06</td>\n",
       "      <td>0.07</td>\n",
       "      <td>0.00</td>\n",
       "      <td>0.00</td>\n",
       "      <td>1.00</td>\n",
       "      <td>1.00</td>\n",
       "      <td>0.00</td>\n",
       "      <td>0.00</td>\n",
       "      <td>neptune</td>\n",
       "      <td>21</td>\n",
       "    </tr>\n",
       "    <tr>\n",
       "      <td>8</td>\n",
       "      <td>0</td>\n",
       "      <td>tcp</td>\n",
       "      <td>remote_job</td>\n",
       "      <td>S0</td>\n",
       "      <td>0</td>\n",
       "      <td>0</td>\n",
       "      <td>0</td>\n",
       "      <td>0</td>\n",
       "      <td>0</td>\n",
       "      <td>0</td>\n",
       "      <td>...</td>\n",
       "      <td>0.09</td>\n",
       "      <td>0.05</td>\n",
       "      <td>0.00</td>\n",
       "      <td>0.00</td>\n",
       "      <td>1.00</td>\n",
       "      <td>1.00</td>\n",
       "      <td>0.00</td>\n",
       "      <td>0.00</td>\n",
       "      <td>neptune</td>\n",
       "      <td>21</td>\n",
       "    </tr>\n",
       "    <tr>\n",
       "      <td>9</td>\n",
       "      <td>0</td>\n",
       "      <td>tcp</td>\n",
       "      <td>private</td>\n",
       "      <td>S0</td>\n",
       "      <td>0</td>\n",
       "      <td>0</td>\n",
       "      <td>0</td>\n",
       "      <td>0</td>\n",
       "      <td>0</td>\n",
       "      <td>0</td>\n",
       "      <td>...</td>\n",
       "      <td>0.05</td>\n",
       "      <td>0.06</td>\n",
       "      <td>0.00</td>\n",
       "      <td>0.00</td>\n",
       "      <td>1.00</td>\n",
       "      <td>1.00</td>\n",
       "      <td>0.00</td>\n",
       "      <td>0.00</td>\n",
       "      <td>neptune</td>\n",
       "      <td>21</td>\n",
       "    </tr>\n",
       "    <tr>\n",
       "      <td>10</td>\n",
       "      <td>0</td>\n",
       "      <td>tcp</td>\n",
       "      <td>private</td>\n",
       "      <td>REJ</td>\n",
       "      <td>0</td>\n",
       "      <td>0</td>\n",
       "      <td>0</td>\n",
       "      <td>0</td>\n",
       "      <td>0</td>\n",
       "      <td>0</td>\n",
       "      <td>...</td>\n",
       "      <td>0.05</td>\n",
       "      <td>0.07</td>\n",
       "      <td>0.00</td>\n",
       "      <td>0.00</td>\n",
       "      <td>0.00</td>\n",
       "      <td>0.00</td>\n",
       "      <td>1.00</td>\n",
       "      <td>1.00</td>\n",
       "      <td>neptune</td>\n",
       "      <td>21</td>\n",
       "    </tr>\n",
       "    <tr>\n",
       "      <td>11</td>\n",
       "      <td>0</td>\n",
       "      <td>tcp</td>\n",
       "      <td>private</td>\n",
       "      <td>S0</td>\n",
       "      <td>0</td>\n",
       "      <td>0</td>\n",
       "      <td>0</td>\n",
       "      <td>0</td>\n",
       "      <td>0</td>\n",
       "      <td>0</td>\n",
       "      <td>...</td>\n",
       "      <td>0.05</td>\n",
       "      <td>0.07</td>\n",
       "      <td>0.00</td>\n",
       "      <td>0.00</td>\n",
       "      <td>1.00</td>\n",
       "      <td>1.00</td>\n",
       "      <td>0.00</td>\n",
       "      <td>0.00</td>\n",
       "      <td>neptune</td>\n",
       "      <td>21</td>\n",
       "    </tr>\n",
       "    <tr>\n",
       "      <td>12</td>\n",
       "      <td>0</td>\n",
       "      <td>tcp</td>\n",
       "      <td>http</td>\n",
       "      <td>SF</td>\n",
       "      <td>287</td>\n",
       "      <td>2251</td>\n",
       "      <td>0</td>\n",
       "      <td>0</td>\n",
       "      <td>0</td>\n",
       "      <td>0</td>\n",
       "      <td>...</td>\n",
       "      <td>1.00</td>\n",
       "      <td>0.00</td>\n",
       "      <td>0.12</td>\n",
       "      <td>0.03</td>\n",
       "      <td>0.00</td>\n",
       "      <td>0.00</td>\n",
       "      <td>0.00</td>\n",
       "      <td>0.00</td>\n",
       "      <td>normal</td>\n",
       "      <td>21</td>\n",
       "    </tr>\n",
       "    <tr>\n",
       "      <td>13</td>\n",
       "      <td>0</td>\n",
       "      <td>tcp</td>\n",
       "      <td>ftp_data</td>\n",
       "      <td>SF</td>\n",
       "      <td>334</td>\n",
       "      <td>0</td>\n",
       "      <td>0</td>\n",
       "      <td>0</td>\n",
       "      <td>0</td>\n",
       "      <td>0</td>\n",
       "      <td>...</td>\n",
       "      <td>1.00</td>\n",
       "      <td>0.00</td>\n",
       "      <td>1.00</td>\n",
       "      <td>0.20</td>\n",
       "      <td>0.00</td>\n",
       "      <td>0.00</td>\n",
       "      <td>0.00</td>\n",
       "      <td>0.00</td>\n",
       "      <td>warezclient</td>\n",
       "      <td>15</td>\n",
       "    </tr>\n",
       "    <tr>\n",
       "      <td>14</td>\n",
       "      <td>0</td>\n",
       "      <td>tcp</td>\n",
       "      <td>name</td>\n",
       "      <td>S0</td>\n",
       "      <td>0</td>\n",
       "      <td>0</td>\n",
       "      <td>0</td>\n",
       "      <td>0</td>\n",
       "      <td>0</td>\n",
       "      <td>0</td>\n",
       "      <td>...</td>\n",
       "      <td>0.00</td>\n",
       "      <td>0.07</td>\n",
       "      <td>0.00</td>\n",
       "      <td>0.00</td>\n",
       "      <td>1.00</td>\n",
       "      <td>1.00</td>\n",
       "      <td>0.00</td>\n",
       "      <td>0.00</td>\n",
       "      <td>neptune</td>\n",
       "      <td>19</td>\n",
       "    </tr>\n",
       "    <tr>\n",
       "      <td>15</td>\n",
       "      <td>0</td>\n",
       "      <td>tcp</td>\n",
       "      <td>netbios_ns</td>\n",
       "      <td>S0</td>\n",
       "      <td>0</td>\n",
       "      <td>0</td>\n",
       "      <td>0</td>\n",
       "      <td>0</td>\n",
       "      <td>0</td>\n",
       "      <td>0</td>\n",
       "      <td>...</td>\n",
       "      <td>0.01</td>\n",
       "      <td>0.06</td>\n",
       "      <td>0.00</td>\n",
       "      <td>0.00</td>\n",
       "      <td>1.00</td>\n",
       "      <td>1.00</td>\n",
       "      <td>0.00</td>\n",
       "      <td>0.00</td>\n",
       "      <td>neptune</td>\n",
       "      <td>18</td>\n",
       "    </tr>\n",
       "    <tr>\n",
       "      <td>16</td>\n",
       "      <td>0</td>\n",
       "      <td>tcp</td>\n",
       "      <td>http</td>\n",
       "      <td>SF</td>\n",
       "      <td>300</td>\n",
       "      <td>13788</td>\n",
       "      <td>0</td>\n",
       "      <td>0</td>\n",
       "      <td>0</td>\n",
       "      <td>0</td>\n",
       "      <td>...</td>\n",
       "      <td>1.00</td>\n",
       "      <td>0.00</td>\n",
       "      <td>0.01</td>\n",
       "      <td>0.02</td>\n",
       "      <td>0.00</td>\n",
       "      <td>0.00</td>\n",
       "      <td>0.00</td>\n",
       "      <td>0.00</td>\n",
       "      <td>normal</td>\n",
       "      <td>21</td>\n",
       "    </tr>\n",
       "    <tr>\n",
       "      <td>17</td>\n",
       "      <td>0</td>\n",
       "      <td>icmp</td>\n",
       "      <td>eco_i</td>\n",
       "      <td>SF</td>\n",
       "      <td>18</td>\n",
       "      <td>0</td>\n",
       "      <td>0</td>\n",
       "      <td>0</td>\n",
       "      <td>0</td>\n",
       "      <td>0</td>\n",
       "      <td>...</td>\n",
       "      <td>1.00</td>\n",
       "      <td>0.00</td>\n",
       "      <td>1.00</td>\n",
       "      <td>1.00</td>\n",
       "      <td>0.00</td>\n",
       "      <td>0.00</td>\n",
       "      <td>0.00</td>\n",
       "      <td>0.00</td>\n",
       "      <td>ipsweep</td>\n",
       "      <td>18</td>\n",
       "    </tr>\n",
       "    <tr>\n",
       "      <td>18</td>\n",
       "      <td>0</td>\n",
       "      <td>tcp</td>\n",
       "      <td>http</td>\n",
       "      <td>SF</td>\n",
       "      <td>233</td>\n",
       "      <td>616</td>\n",
       "      <td>0</td>\n",
       "      <td>0</td>\n",
       "      <td>0</td>\n",
       "      <td>0</td>\n",
       "      <td>...</td>\n",
       "      <td>1.00</td>\n",
       "      <td>0.00</td>\n",
       "      <td>0.02</td>\n",
       "      <td>0.03</td>\n",
       "      <td>0.00</td>\n",
       "      <td>0.00</td>\n",
       "      <td>0.02</td>\n",
       "      <td>0.00</td>\n",
       "      <td>normal</td>\n",
       "      <td>21</td>\n",
       "    </tr>\n",
       "    <tr>\n",
       "      <td>19</td>\n",
       "      <td>0</td>\n",
       "      <td>tcp</td>\n",
       "      <td>http</td>\n",
       "      <td>SF</td>\n",
       "      <td>343</td>\n",
       "      <td>1178</td>\n",
       "      <td>0</td>\n",
       "      <td>0</td>\n",
       "      <td>0</td>\n",
       "      <td>0</td>\n",
       "      <td>...</td>\n",
       "      <td>1.00</td>\n",
       "      <td>0.00</td>\n",
       "      <td>0.01</td>\n",
       "      <td>0.04</td>\n",
       "      <td>0.00</td>\n",
       "      <td>0.00</td>\n",
       "      <td>0.00</td>\n",
       "      <td>0.00</td>\n",
       "      <td>normal</td>\n",
       "      <td>21</td>\n",
       "    </tr>\n",
       "  </tbody>\n",
       "</table>\n",
       "<p>20 rows × 43 columns</p>\n",
       "</div>"
      ],
      "text/plain": [
       "    duration protocol_type     service flag  src_bytes  dst_bytes  land  \\\n",
       "0          0           tcp    ftp_data   SF        491          0     0   \n",
       "1          0           udp       other   SF        146          0     0   \n",
       "2          0           tcp     private   S0          0          0     0   \n",
       "3          0           tcp        http   SF        232       8153     0   \n",
       "4          0           tcp        http   SF        199        420     0   \n",
       "5          0           tcp     private  REJ          0          0     0   \n",
       "6          0           tcp     private   S0          0          0     0   \n",
       "7          0           tcp     private   S0          0          0     0   \n",
       "8          0           tcp  remote_job   S0          0          0     0   \n",
       "9          0           tcp     private   S0          0          0     0   \n",
       "10         0           tcp     private  REJ          0          0     0   \n",
       "11         0           tcp     private   S0          0          0     0   \n",
       "12         0           tcp        http   SF        287       2251     0   \n",
       "13         0           tcp    ftp_data   SF        334          0     0   \n",
       "14         0           tcp        name   S0          0          0     0   \n",
       "15         0           tcp  netbios_ns   S0          0          0     0   \n",
       "16         0           tcp        http   SF        300      13788     0   \n",
       "17         0          icmp       eco_i   SF         18          0     0   \n",
       "18         0           tcp        http   SF        233        616     0   \n",
       "19         0           tcp        http   SF        343       1178     0   \n",
       "\n",
       "    wrong_fragment  urgent  hot  ...  dst_host_same_srv_rate  \\\n",
       "0                0       0    0  ...                    0.17   \n",
       "1                0       0    0  ...                    0.00   \n",
       "2                0       0    0  ...                    0.10   \n",
       "3                0       0    0  ...                    1.00   \n",
       "4                0       0    0  ...                    1.00   \n",
       "5                0       0    0  ...                    0.07   \n",
       "6                0       0    0  ...                    0.04   \n",
       "7                0       0    0  ...                    0.06   \n",
       "8                0       0    0  ...                    0.09   \n",
       "9                0       0    0  ...                    0.05   \n",
       "10               0       0    0  ...                    0.05   \n",
       "11               0       0    0  ...                    0.05   \n",
       "12               0       0    0  ...                    1.00   \n",
       "13               0       0    0  ...                    1.00   \n",
       "14               0       0    0  ...                    0.00   \n",
       "15               0       0    0  ...                    0.01   \n",
       "16               0       0    0  ...                    1.00   \n",
       "17               0       0    0  ...                    1.00   \n",
       "18               0       0    0  ...                    1.00   \n",
       "19               0       0    0  ...                    1.00   \n",
       "\n",
       "    dst_host_diff_srv_rate  dst_host_same_src_port_rate  \\\n",
       "0                     0.03                         0.17   \n",
       "1                     0.60                         0.88   \n",
       "2                     0.05                         0.00   \n",
       "3                     0.00                         0.03   \n",
       "4                     0.00                         0.00   \n",
       "5                     0.07                         0.00   \n",
       "6                     0.05                         0.00   \n",
       "7                     0.07                         0.00   \n",
       "8                     0.05                         0.00   \n",
       "9                     0.06                         0.00   \n",
       "10                    0.07                         0.00   \n",
       "11                    0.07                         0.00   \n",
       "12                    0.00                         0.12   \n",
       "13                    0.00                         1.00   \n",
       "14                    0.07                         0.00   \n",
       "15                    0.06                         0.00   \n",
       "16                    0.00                         0.01   \n",
       "17                    0.00                         1.00   \n",
       "18                    0.00                         0.02   \n",
       "19                    0.00                         0.01   \n",
       "\n",
       "    dst_host_srv_diff_host_rate  dst_host_serror_rate  \\\n",
       "0                          0.00                  0.00   \n",
       "1                          0.00                  0.00   \n",
       "2                          0.00                  1.00   \n",
       "3                          0.04                  0.03   \n",
       "4                          0.00                  0.00   \n",
       "5                          0.00                  0.00   \n",
       "6                          0.00                  1.00   \n",
       "7                          0.00                  1.00   \n",
       "8                          0.00                  1.00   \n",
       "9                          0.00                  1.00   \n",
       "10                         0.00                  0.00   \n",
       "11                         0.00                  1.00   \n",
       "12                         0.03                  0.00   \n",
       "13                         0.20                  0.00   \n",
       "14                         0.00                  1.00   \n",
       "15                         0.00                  1.00   \n",
       "16                         0.02                  0.00   \n",
       "17                         1.00                  0.00   \n",
       "18                         0.03                  0.00   \n",
       "19                         0.04                  0.00   \n",
       "\n",
       "    dst_host_srv_serror_rate  dst_host_rerror_rate  dst_host_srv_rerror_rate  \\\n",
       "0                       0.00                  0.05                      0.00   \n",
       "1                       0.00                  0.00                      0.00   \n",
       "2                       1.00                  0.00                      0.00   \n",
       "3                       0.01                  0.00                      0.01   \n",
       "4                       0.00                  0.00                      0.00   \n",
       "5                       0.00                  1.00                      1.00   \n",
       "6                       1.00                  0.00                      0.00   \n",
       "7                       1.00                  0.00                      0.00   \n",
       "8                       1.00                  0.00                      0.00   \n",
       "9                       1.00                  0.00                      0.00   \n",
       "10                      0.00                  1.00                      1.00   \n",
       "11                      1.00                  0.00                      0.00   \n",
       "12                      0.00                  0.00                      0.00   \n",
       "13                      0.00                  0.00                      0.00   \n",
       "14                      1.00                  0.00                      0.00   \n",
       "15                      1.00                  0.00                      0.00   \n",
       "16                      0.00                  0.00                      0.00   \n",
       "17                      0.00                  0.00                      0.00   \n",
       "18                      0.00                  0.02                      0.00   \n",
       "19                      0.00                  0.00                      0.00   \n",
       "\n",
       "          label  difficulty  \n",
       "0        normal          20  \n",
       "1        normal          15  \n",
       "2       neptune          19  \n",
       "3        normal          21  \n",
       "4        normal          21  \n",
       "5       neptune          21  \n",
       "6       neptune          21  \n",
       "7       neptune          21  \n",
       "8       neptune          21  \n",
       "9       neptune          21  \n",
       "10      neptune          21  \n",
       "11      neptune          21  \n",
       "12       normal          21  \n",
       "13  warezclient          15  \n",
       "14      neptune          19  \n",
       "15      neptune          18  \n",
       "16       normal          21  \n",
       "17      ipsweep          18  \n",
       "18       normal          21  \n",
       "19       normal          21  \n",
       "\n",
       "[20 rows x 43 columns]"
      ]
     },
     "execution_count": 5,
     "metadata": {},
     "output_type": "execute_result"
    }
   ],
   "source": [
    "# displaying the first five rows of dataset\n",
    "\n",
    "data.head(20)\n"
   ]
  },
  {
   "cell_type": "markdown",
   "metadata": {},
   "source": [
    "# SHAPE OF DATASET"
   ]
  },
  {
   "cell_type": "code",
   "execution_count": 8,
   "metadata": {},
   "outputs": [
    {
     "data": {
      "text/plain": [
       "(125973, 43)"
      ]
     },
     "execution_count": 8,
     "metadata": {},
     "output_type": "execute_result"
    }
   ],
   "source": [
    "# showing the number of rows and columns in the data\n",
    "data.shape\n"
   ]
  },
  {
   "cell_type": "markdown",
   "metadata": {},
   "source": [
    "# VISUALIZATION OF CORRELATION BETWEEN FEATURES"
   ]
  },
  {
   "cell_type": "code",
   "execution_count": 9,
   "metadata": {},
   "outputs": [
    {
     "data": {
      "text/plain": [
       "<matplotlib.image.AxesImage at 0x1ed149c1748>"
      ]
     },
     "execution_count": 9,
     "metadata": {},
     "output_type": "execute_result"
    },
    {
     "data": {
      "image/png": "[encoded data removed]",
      "text/plain": [
       "<Figure size 288x288 with 1 Axes>"
      ]
     },
     "metadata": {
      "needs_background": "light"
     },
     "output_type": "display_data"
    }
   ],
   "source": [
    "# applying the correlation between the features to check the desity of inter feature relation\n",
    "plt.matshow(data.corr())# this function shows all the correlation between the featues so we can check which feature is more strongly connected to other feature"
   ]
  },
  {
   "cell_type": "markdown",
   "metadata": {},
   "source": [
    "# MAPPING 23 CLASSES INTO 4 CLASS TO MAKE CLASSIFICATION EASY"
   ]
  },
  {
   "cell_type": "code",
   "execution_count": 10,
   "metadata": {},
   "outputs": [
    {
     "data": {
      "text/plain": [
       "'\\n  1) Denial of Service Attack (DoS): is an attack in\\nwhich the attacker makes some computing or memory\\nresource too busy or too full to handle legitimate requests,\\nor denies legitimate users access to a machine.\\n2) User to Root Attack (U2R): is a class of exploit in\\nwhich the attacker starts out with access to a normal\\nuser account on the system (perhaps gained by snifﬁng\\npasswords, a dictionary attack, or social engineering)\\nand is able to exploit some vulnerability to gain root\\naccess to the system.\\n3) Remote to Local Attack (R2L): occurs when an\\nattacker who has the ability to send packets to a\\nmachine over a network but who does not have an\\naccount on that machine exploits some vulnerability to\\ngain local access as a user of that machine.\\n4) Probing Attack: is an attempt to gather information\\nabout a network of computers for the apparent purpose\\nof circumventing its security controls.\\n  '"
      ]
     },
     "execution_count": 10,
     "metadata": {},
     "output_type": "execute_result"
    }
   ],
   "source": [
    " # as per the research paper  A Detailed analysis of the KDD CUP 99 Data Set there are total four kinds of attacks found in this dataset\n",
    "'''\n",
    "   1) Denial of Service Attack (DoS): is an attack in\n",
    "which the attacker makes some computing or memory\n",
    "resource too busy or too full to handle legitimate requests,\n",
    "or denies legitimate users access to a machine.\n",
    "2) User to Root Attack (U2R): is a class of exploit in\n",
    "which the attacker starts out with access to a normal\n",
    "user account on the system (perhaps gained by snifﬁng\n",
    "passwords, a dictionary attack, or social engineering)\n",
    "and is able to exploit some vulnerability to gain root\n",
    "access to the system.\n",
    "3) Remote to Local Attack (R2L): occurs when an\n",
    "attacker who has the ability to send packets to a\n",
    "machine over a network but who does not have an\n",
    "account on that machine exploits some vulnerability to\n",
    "gain local access as a user of that machine.\n",
    "4) Probing Attack: is an attempt to gather information\n",
    "about a network of computers for the apparent purpose\n",
    "of circumventing its security controls.\n",
    "   '''\n",
    "# we will now intruduce a new column of attack class which is determined by the mappings provided for each attack\n",
    "    \n",
    "    "
   ]
  },
  {
   "cell_type": "code",
   "execution_count": 11,
   "metadata": {},
   "outputs": [],
   "source": [
    "# =======================================STEP 2: SIMPLIFYING THE FEATURE (LABEL) TO IMPROVE RESULT======================================================="
   ]
  },
  {
   "cell_type": "code",
   "execution_count": 12,
   "metadata": {},
   "outputs": [],
   "source": [
    "'''first of all as mentioned above we are going to replace the label column by 4 mentioned types of attacks and to replace it\n",
    "for each label we must have some mapping or scheme. so below is the mapping provided by the source:\n",
    "\n",
    "'''\n",
    "# furthermore this step will make us easy to detect intrusions and apply ml algorithms\n",
    "\n",
    "mapping = {'ipsweep': 'Probe','satan': 'Probe','nmap': 'Probe','portsweep': 'Probe','saint': 'Probe','mscan': 'Probe',\n",
    "        'teardrop': 'DoS','pod': 'DoS','land': 'DoS','back': 'DoS','neptune': 'DoS','smurf': 'DoS','mailbomb': 'DoS',\n",
    "        'udpstorm': 'DoS','apache2': 'DoS','processtable': 'DoS',\n",
    "        'perl': 'U2R','loadmodule': 'U2R','rootkit': 'U2R','buffer_overflow': 'U2R','xterm': 'U2R','ps': 'U2R',\n",
    "        'sqlattack': 'U2R','httptunnel': 'U2R',\n",
    "        'ftp_write': 'R2L','phf': 'R2L','guess_passwd': 'R2L','warezmaster': 'R2L','warezclient': 'R2L','imap': 'R2L',\n",
    "        'spy': 'R2L','multihop': 'R2L','named': 'R2L','snmpguess': 'R2L','worm': 'R2L','snmpgetattack': 'R2L',\n",
    "        'xsnoop': 'R2L','xlock': 'R2L','sendmail': 'R2L',\n",
    "        'normal': 'Normal'\n",
    "        }\n",
    "\n",
    "\n",
    "\n",
    "# now replacing the label with  a new column attack class\n",
    "\n",
    "\n",
    "data['attack_class'] = data['label'].apply(lambda v: mapping[v])\n",
    "data_test['attack_class'] = data_test['label'].apply(lambda v: mapping[v])\n",
    "\n",
    "# dropping the old label column which we dont need now\n",
    "data.drop(['label'], axis=1, inplace=True)\n",
    "data_test.drop(['label'], axis=1, inplace=True)"
   ]
  },
  {
   "cell_type": "code",
   "execution_count": 13,
   "metadata": {},
   "outputs": [
    {
     "data": {
      "text/plain": [
       "0         Normal\n",
       "1         Normal\n",
       "2            DoS\n",
       "3         Normal\n",
       "4         Normal\n",
       "           ...  \n",
       "125968       DoS\n",
       "125969    Normal\n",
       "125970    Normal\n",
       "125971       DoS\n",
       "125972    Normal\n",
       "Name: attack_class, Length: 125973, dtype: object"
      ]
     },
     "execution_count": 13,
     "metadata": {},
     "output_type": "execute_result"
    }
   ],
   "source": [
    "data['attack_class']"
   ]
  },
  {
   "cell_type": "markdown",
   "metadata": {},
   "source": [
    "# Exploartory Data Analysis"
   ]
  },
  {
   "cell_type": "code",
   "execution_count": 15,
   "metadata": {},
   "outputs": [],
   "source": [
    "#=========================STEP3: EDA Exploratory Data Analysis==============================================="
   ]
  },
  {
   "cell_type": "code",
   "execution_count": 16,
   "metadata": {},
   "outputs": [
    {
     "data": {
      "text/html": [
       "<div>\n",
       "<style scoped>\n",
       "    .dataframe tbody tr th:only-of-type {\n",
       "        vertical-align: middle;\n",
       "    }\n",
       "\n",
       "    .dataframe tbody tr th {\n",
       "        vertical-align: top;\n",
       "    }\n",
       "\n",
       "    .dataframe thead th {\n",
       "        text-align: right;\n",
       "    }\n",
       "</style>\n",
       "<table border=\"1\" class=\"dataframe\">\n",
       "  <thead>\n",
       "    <tr style=\"text-align: right;\">\n",
       "      <th></th>\n",
       "      <th>duration</th>\n",
       "      <th>src_bytes</th>\n",
       "      <th>dst_bytes</th>\n",
       "      <th>land</th>\n",
       "      <th>wrong_fragment</th>\n",
       "      <th>urgent</th>\n",
       "      <th>hot</th>\n",
       "      <th>num_failed_logins</th>\n",
       "      <th>logged_in</th>\n",
       "      <th>num_compromised</th>\n",
       "      <th>...</th>\n",
       "      <th>dst_host_srv_count</th>\n",
       "      <th>dst_host_same_srv_rate</th>\n",
       "      <th>dst_host_diff_srv_rate</th>\n",
       "      <th>dst_host_same_src_port_rate</th>\n",
       "      <th>dst_host_srv_diff_host_rate</th>\n",
       "      <th>dst_host_serror_rate</th>\n",
       "      <th>dst_host_srv_serror_rate</th>\n",
       "      <th>dst_host_rerror_rate</th>\n",
       "      <th>dst_host_srv_rerror_rate</th>\n",
       "      <th>difficulty</th>\n",
       "    </tr>\n",
       "  </thead>\n",
       "  <tbody>\n",
       "    <tr>\n",
       "      <td>count</td>\n",
       "      <td>125973.00000</td>\n",
       "      <td>1.259730e+05</td>\n",
       "      <td>1.259730e+05</td>\n",
       "      <td>125973.000000</td>\n",
       "      <td>125973.000000</td>\n",
       "      <td>125973.000000</td>\n",
       "      <td>125973.000000</td>\n",
       "      <td>125973.000000</td>\n",
       "      <td>125973.000000</td>\n",
       "      <td>125973.000000</td>\n",
       "      <td>...</td>\n",
       "      <td>125973.000000</td>\n",
       "      <td>125973.000000</td>\n",
       "      <td>125973.000000</td>\n",
       "      <td>125973.000000</td>\n",
       "      <td>125973.000000</td>\n",
       "      <td>125973.000000</td>\n",
       "      <td>125973.000000</td>\n",
       "      <td>125973.000000</td>\n",
       "      <td>125973.000000</td>\n",
       "      <td>125973.000000</td>\n",
       "    </tr>\n",
       "    <tr>\n",
       "      <td>mean</td>\n",
       "      <td>287.14465</td>\n",
       "      <td>4.556674e+04</td>\n",
       "      <td>1.977911e+04</td>\n",
       "      <td>0.000198</td>\n",
       "      <td>0.022687</td>\n",
       "      <td>0.000111</td>\n",
       "      <td>0.204409</td>\n",
       "      <td>0.001222</td>\n",
       "      <td>0.395736</td>\n",
       "      <td>0.279250</td>\n",
       "      <td>...</td>\n",
       "      <td>115.653005</td>\n",
       "      <td>0.521242</td>\n",
       "      <td>0.082951</td>\n",
       "      <td>0.148379</td>\n",
       "      <td>0.032542</td>\n",
       "      <td>0.284452</td>\n",
       "      <td>0.278485</td>\n",
       "      <td>0.118832</td>\n",
       "      <td>0.120240</td>\n",
       "      <td>19.504060</td>\n",
       "    </tr>\n",
       "    <tr>\n",
       "      <td>std</td>\n",
       "      <td>2604.51531</td>\n",
       "      <td>5.870331e+06</td>\n",
       "      <td>4.021269e+06</td>\n",
       "      <td>0.014086</td>\n",
       "      <td>0.253530</td>\n",
       "      <td>0.014366</td>\n",
       "      <td>2.149968</td>\n",
       "      <td>0.045239</td>\n",
       "      <td>0.489010</td>\n",
       "      <td>23.942042</td>\n",
       "      <td>...</td>\n",
       "      <td>110.702741</td>\n",
       "      <td>0.448949</td>\n",
       "      <td>0.188922</td>\n",
       "      <td>0.308997</td>\n",
       "      <td>0.112564</td>\n",
       "      <td>0.444784</td>\n",
       "      <td>0.445669</td>\n",
       "      <td>0.306557</td>\n",
       "      <td>0.319459</td>\n",
       "      <td>2.291503</td>\n",
       "    </tr>\n",
       "    <tr>\n",
       "      <td>min</td>\n",
       "      <td>0.00000</td>\n",
       "      <td>0.000000e+00</td>\n",
       "      <td>0.000000e+00</td>\n",
       "      <td>0.000000</td>\n",
       "      <td>0.000000</td>\n",
       "      <td>0.000000</td>\n",
       "      <td>0.000000</td>\n",
       "      <td>0.000000</td>\n",
       "      <td>0.000000</td>\n",
       "      <td>0.000000</td>\n",
       "      <td>...</td>\n",
       "      <td>0.000000</td>\n",
       "      <td>0.000000</td>\n",
       "      <td>0.000000</td>\n",
       "      <td>0.000000</td>\n",
       "      <td>0.000000</td>\n",
       "      <td>0.000000</td>\n",
       "      <td>0.000000</td>\n",
       "      <td>0.000000</td>\n",
       "      <td>0.000000</td>\n",
       "      <td>0.000000</td>\n",
       "    </tr>\n",
       "    <tr>\n",
       "      <td>25%</td>\n",
       "      <td>0.00000</td>\n",
       "      <td>0.000000e+00</td>\n",
       "      <td>0.000000e+00</td>\n",
       "      <td>0.000000</td>\n",
       "      <td>0.000000</td>\n",
       "      <td>0.000000</td>\n",
       "      <td>0.000000</td>\n",
       "      <td>0.000000</td>\n",
       "      <td>0.000000</td>\n",
       "      <td>0.000000</td>\n",
       "      <td>...</td>\n",
       "      <td>10.000000</td>\n",
       "      <td>0.050000</td>\n",
       "      <td>0.000000</td>\n",
       "      <td>0.000000</td>\n",
       "      <td>0.000000</td>\n",
       "      <td>0.000000</td>\n",
       "      <td>0.000000</td>\n",
       "      <td>0.000000</td>\n",
       "      <td>0.000000</td>\n",
       "      <td>18.000000</td>\n",
       "    </tr>\n",
       "    <tr>\n",
       "      <td>50%</td>\n",
       "      <td>0.00000</td>\n",
       "      <td>4.400000e+01</td>\n",
       "      <td>0.000000e+00</td>\n",
       "      <td>0.000000</td>\n",
       "      <td>0.000000</td>\n",
       "      <td>0.000000</td>\n",
       "      <td>0.000000</td>\n",
       "      <td>0.000000</td>\n",
       "      <td>0.000000</td>\n",
       "      <td>0.000000</td>\n",
       "      <td>...</td>\n",
       "      <td>63.000000</td>\n",
       "      <td>0.510000</td>\n",
       "      <td>0.020000</td>\n",
       "      <td>0.000000</td>\n",
       "      <td>0.000000</td>\n",
       "      <td>0.000000</td>\n",
       "      <td>0.000000</td>\n",
       "      <td>0.000000</td>\n",
       "      <td>0.000000</td>\n",
       "      <td>20.000000</td>\n",
       "    </tr>\n",
       "    <tr>\n",
       "      <td>75%</td>\n",
       "      <td>0.00000</td>\n",
       "      <td>2.760000e+02</td>\n",
       "      <td>5.160000e+02</td>\n",
       "      <td>0.000000</td>\n",
       "      <td>0.000000</td>\n",
       "      <td>0.000000</td>\n",
       "      <td>0.000000</td>\n",
       "      <td>0.000000</td>\n",
       "      <td>1.000000</td>\n",
       "      <td>0.000000</td>\n",
       "      <td>...</td>\n",
       "      <td>255.000000</td>\n",
       "      <td>1.000000</td>\n",
       "      <td>0.070000</td>\n",
       "      <td>0.060000</td>\n",
       "      <td>0.020000</td>\n",
       "      <td>1.000000</td>\n",
       "      <td>1.000000</td>\n",
       "      <td>0.000000</td>\n",
       "      <td>0.000000</td>\n",
       "      <td>21.000000</td>\n",
       "    </tr>\n",
       "    <tr>\n",
       "      <td>max</td>\n",
       "      <td>42908.00000</td>\n",
       "      <td>1.379964e+09</td>\n",
       "      <td>1.309937e+09</td>\n",
       "      <td>1.000000</td>\n",
       "      <td>3.000000</td>\n",
       "      <td>3.000000</td>\n",
       "      <td>77.000000</td>\n",
       "      <td>5.000000</td>\n",
       "      <td>1.000000</td>\n",
       "      <td>7479.000000</td>\n",
       "      <td>...</td>\n",
       "      <td>255.000000</td>\n",
       "      <td>1.000000</td>\n",
       "      <td>1.000000</td>\n",
       "      <td>1.000000</td>\n",
       "      <td>1.000000</td>\n",
       "      <td>1.000000</td>\n",
       "      <td>1.000000</td>\n",
       "      <td>1.000000</td>\n",
       "      <td>1.000000</td>\n",
       "      <td>21.000000</td>\n",
       "    </tr>\n",
       "  </tbody>\n",
       "</table>\n",
       "<p>8 rows × 39 columns</p>\n",
       "</div>"
      ],
      "text/plain": [
       "           duration     src_bytes     dst_bytes           land  \\\n",
       "count  125973.00000  1.259730e+05  1.259730e+05  125973.000000   \n",
       "mean      287.14465  4.556674e+04  1.977911e+04       0.000198   \n",
       "std      2604.51531  5.870331e+06  4.021269e+06       0.014086   \n",
       "min         0.00000  0.000000e+00  0.000000e+00       0.000000   \n",
       "25%         0.00000  0.000000e+00  0.000000e+00       0.000000   \n",
       "50%         0.00000  4.400000e+01  0.000000e+00       0.000000   \n",
       "75%         0.00000  2.760000e+02  5.160000e+02       0.000000   \n",
       "max     42908.00000  1.379964e+09  1.309937e+09       1.000000   \n",
       "\n",
       "       wrong_fragment         urgent            hot  num_failed_logins  \\\n",
       "count   125973.000000  125973.000000  125973.000000      125973.000000   \n",
       "mean         0.022687       0.000111       0.204409           0.001222   \n",
       "std          0.253530       0.014366       2.149968           0.045239   \n",
       "min          0.000000       0.000000       0.000000           0.000000   \n",
       "25%          0.000000       0.000000       0.000000           0.000000   \n",
       "50%          0.000000       0.000000       0.000000           0.000000   \n",
       "75%          0.000000       0.000000       0.000000           0.000000   \n",
       "max          3.000000       3.000000      77.000000           5.000000   \n",
       "\n",
       "           logged_in  num_compromised  ...  dst_host_srv_count  \\\n",
       "count  125973.000000    125973.000000  ...       125973.000000   \n",
       "mean        0.395736         0.279250  ...          115.653005   \n",
       "std         0.489010        23.942042  ...          110.702741   \n",
       "min         0.000000         0.000000  ...            0.000000   \n",
       "25%         0.000000         0.000000  ...           10.000000   \n",
       "50%         0.000000         0.000000  ...           63.000000   \n",
       "75%         1.000000         0.000000  ...          255.000000   \n",
       "max         1.000000      7479.000000  ...          255.000000   \n",
       "\n",
       "       dst_host_same_srv_rate  dst_host_diff_srv_rate  \\\n",
       "count           125973.000000           125973.000000   \n",
       "mean                 0.521242                0.082951   \n",
       "std                  0.448949                0.188922   \n",
       "min                  0.000000                0.000000   \n",
       "25%                  0.050000                0.000000   \n",
       "50%                  0.510000                0.020000   \n",
       "75%                  1.000000                0.070000   \n",
       "max                  1.000000                1.000000   \n",
       "\n",
       "       dst_host_same_src_port_rate  dst_host_srv_diff_host_rate  \\\n",
       "count                125973.000000                125973.000000   \n",
       "mean                      0.148379                     0.032542   \n",
       "std                       0.308997                     0.112564   \n",
       "min                       0.000000                     0.000000   \n",
       "25%                       0.000000                     0.000000   \n",
       "50%                       0.000000                     0.000000   \n",
       "75%                       0.060000                     0.020000   \n",
       "max                       1.000000                     1.000000   \n",
       "\n",
       "       dst_host_serror_rate  dst_host_srv_serror_rate  dst_host_rerror_rate  \\\n",
       "count         125973.000000             125973.000000         125973.000000   \n",
       "mean               0.284452                  0.278485              0.118832   \n",
       "std                0.444784                  0.445669              0.306557   \n",
       "min                0.000000                  0.000000              0.000000   \n",
       "25%                0.000000                  0.000000              0.000000   \n",
       "50%                0.000000                  0.000000              0.000000   \n",
       "75%                1.000000                  1.000000              0.000000   \n",
       "max                1.000000                  1.000000              1.000000   \n",
       "\n",
       "       dst_host_srv_rerror_rate     difficulty  \n",
       "count             125973.000000  125973.000000  \n",
       "mean                   0.120240      19.504060  \n",
       "std                    0.319459       2.291503  \n",
       "min                    0.000000       0.000000  \n",
       "25%                    0.000000      18.000000  \n",
       "50%                    0.000000      20.000000  \n",
       "75%                    0.000000      21.000000  \n",
       "max                    1.000000      21.000000  \n",
       "\n",
       "[8 rows x 39 columns]"
      ]
     },
     "execution_count": 16,
     "metadata": {},
     "output_type": "execute_result"
    }
   ],
   "source": [
    "# feature wise statistical analysis\n",
    "data.describe()"
   ]
  },
  {
   "cell_type": "code",
   "execution_count": 17,
   "metadata": {},
   "outputs": [
    {
     "data": {
      "text/plain": [
       "count     125973\n",
       "unique         5\n",
       "top       Normal\n",
       "freq       67343\n",
       "Name: attack_class, dtype: object"
      ]
     },
     "execution_count": 17,
     "metadata": {},
     "output_type": "execute_result"
    }
   ],
   "source": [
    "data['attack_class'].describe()"
   ]
  },
  {
   "cell_type": "code",
   "execution_count": 18,
   "metadata": {},
   "outputs": [
    {
     "data": {
      "text/html": [
       "<div>\n",
       "<style scoped>\n",
       "    .dataframe tbody tr th:only-of-type {\n",
       "        vertical-align: middle;\n",
       "    }\n",
       "\n",
       "    .dataframe tbody tr th {\n",
       "        vertical-align: top;\n",
       "    }\n",
       "\n",
       "    .dataframe thead th {\n",
       "        text-align: right;\n",
       "    }\n",
       "</style>\n",
       "<table border=\"1\" class=\"dataframe\">\n",
       "  <thead>\n",
       "    <tr style=\"text-align: right;\">\n",
       "      <th></th>\n",
       "      <th>attack_class</th>\n",
       "      <th>frequency_percent_train</th>\n",
       "    </tr>\n",
       "  </thead>\n",
       "  <tbody>\n",
       "    <tr>\n",
       "      <td>Normal</td>\n",
       "      <td>67343</td>\n",
       "      <td>53.458281</td>\n",
       "    </tr>\n",
       "    <tr>\n",
       "      <td>DoS</td>\n",
       "      <td>45927</td>\n",
       "      <td>36.457812</td>\n",
       "    </tr>\n",
       "    <tr>\n",
       "      <td>Probe</td>\n",
       "      <td>11656</td>\n",
       "      <td>9.252776</td>\n",
       "    </tr>\n",
       "    <tr>\n",
       "      <td>R2L</td>\n",
       "      <td>995</td>\n",
       "      <td>0.789852</td>\n",
       "    </tr>\n",
       "    <tr>\n",
       "      <td>U2R</td>\n",
       "      <td>52</td>\n",
       "      <td>0.041279</td>\n",
       "    </tr>\n",
       "  </tbody>\n",
       "</table>\n",
       "</div>"
      ],
      "text/plain": [
       "        attack_class  frequency_percent_train\n",
       "Normal         67343                53.458281\n",
       "DoS            45927                36.457812\n",
       "Probe          11656                 9.252776\n",
       "R2L              995                 0.789852\n",
       "U2R               52                 0.041279"
      ]
     },
     "execution_count": 18,
     "metadata": {},
     "output_type": "execute_result"
    }
   ],
   "source": [
    "# checking the distribution trends among the attack classses\n",
    "\n",
    "# calculating the frequency of each type of attack\n",
    "\n",
    "attack_class_frequency = data[['attack_class']].apply(lambda x: x.value_counts())\n",
    "\n",
    "attack_class_frequency['frequency_percent_train'] = (100 * attack_class_frequency / attack_class_frequency.sum())\n",
    "attack_class_distribution = pd.concat([attack_class_frequency], axis=1)\n",
    "attack_class_distribution"
   ]
  },
  {
   "cell_type": "markdown",
   "metadata": {},
   "source": [
    "# DISTRIBUTION AMONG CLASSES"
   ]
  },
  {
   "cell_type": "code",
   "execution_count": 19,
   "metadata": {},
   "outputs": [
    {
     "data": {
      "image/png": "[encoded data removed]",
      "text/plain": [
       "<Figure size 432x288 with 1 Axes>"
      ]
     },
     "metadata": {},
     "output_type": "display_data"
    }
   ],
   "source": [
    "# visual representation of above results\n",
    "\n",
    "plotting_freq = attack_class_distribution[['frequency_percent_train']].plot(kind=\"pie\",subplots=True)"
   ]
  },
  {
   "cell_type": "markdown",
   "metadata": {},
   "source": [
    "# DATA PREPROCESSING"
   ]
  },
  {
   "cell_type": "code",
   "execution_count": 20,
   "metadata": {},
   "outputs": [],
   "source": [
    "#=================================STEP 4 : DATA PREPROCESSING ========================================================"
   ]
  },
  {
   "cell_type": "code",
   "execution_count": 21,
   "metadata": {},
   "outputs": [],
   "source": [
    "\n",
    "# pre-processing refers to the transformations applied to \n",
    "#your data before feeding it to the algorithm. In python, scikit-learn library has a\n",
    "# pre-built functionality under sklearn.preprocessing.\n"
   ]
  },
  {
   "cell_type": "markdown",
   "metadata": {},
   "source": [
    "# SCALING NUMERICAL DATA"
   ]
  },
  {
   "cell_type": "code",
   "execution_count": 22,
   "metadata": {},
   "outputs": [],
   "source": [
    "#importing the scaler \n",
    "# scaling is used only for numerical \n",
    "# standard scaling has been used to minimize the variance in features including  continous numbers\n",
    "from sklearn.preprocessing import StandardScaler\n",
    "scaler = StandardScaler()\n",
    "\n"
   ]
  },
  {
   "cell_type": "code",
   "execution_count": 23,
   "metadata": {},
   "outputs": [
    {
     "data": {
      "text/html": [
       "<div>\n",
       "<style scoped>\n",
       "    .dataframe tbody tr th:only-of-type {\n",
       "        vertical-align: middle;\n",
       "    }\n",
       "\n",
       "    .dataframe tbody tr th {\n",
       "        vertical-align: top;\n",
       "    }\n",
       "\n",
       "    .dataframe thead th {\n",
       "        text-align: right;\n",
       "    }\n",
       "</style>\n",
       "<table border=\"1\" class=\"dataframe\">\n",
       "  <thead>\n",
       "    <tr style=\"text-align: right;\">\n",
       "      <th></th>\n",
       "      <th>duration</th>\n",
       "      <th>protocol_type</th>\n",
       "      <th>service</th>\n",
       "      <th>flag</th>\n",
       "      <th>src_bytes</th>\n",
       "      <th>dst_bytes</th>\n",
       "      <th>land</th>\n",
       "      <th>wrong_fragment</th>\n",
       "      <th>urgent</th>\n",
       "      <th>hot</th>\n",
       "      <th>...</th>\n",
       "      <th>dst_host_same_srv_rate</th>\n",
       "      <th>dst_host_diff_srv_rate</th>\n",
       "      <th>dst_host_same_src_port_rate</th>\n",
       "      <th>dst_host_srv_diff_host_rate</th>\n",
       "      <th>dst_host_serror_rate</th>\n",
       "      <th>dst_host_srv_serror_rate</th>\n",
       "      <th>dst_host_rerror_rate</th>\n",
       "      <th>dst_host_srv_rerror_rate</th>\n",
       "      <th>difficulty</th>\n",
       "      <th>attack_class</th>\n",
       "    </tr>\n",
       "  </thead>\n",
       "  <tbody>\n",
       "    <tr>\n",
       "      <td>0</td>\n",
       "      <td>-0.155534</td>\n",
       "      <td>tcp</td>\n",
       "      <td>private</td>\n",
       "      <td>REJ</td>\n",
       "      <td>-0.021988</td>\n",
       "      <td>-0.096896</td>\n",
       "      <td>-0.017624</td>\n",
       "      <td>-0.059104</td>\n",
       "      <td>-0.019459</td>\n",
       "      <td>-0.113521</td>\n",
       "      <td>...</td>\n",
       "      <td>-1.305370</td>\n",
       "      <td>-0.138370</td>\n",
       "      <td>-0.431856</td>\n",
       "      <td>-0.229980</td>\n",
       "      <td>-0.358118</td>\n",
       "      <td>-0.35275</td>\n",
       "      <td>1.979791</td>\n",
       "      <td>1.929116</td>\n",
       "      <td>0.698325</td>\n",
       "      <td>DoS</td>\n",
       "    </tr>\n",
       "    <tr>\n",
       "      <td>1</td>\n",
       "      <td>-0.155534</td>\n",
       "      <td>tcp</td>\n",
       "      <td>private</td>\n",
       "      <td>REJ</td>\n",
       "      <td>-0.021988</td>\n",
       "      <td>-0.096896</td>\n",
       "      <td>-0.017624</td>\n",
       "      <td>-0.059104</td>\n",
       "      <td>-0.019459</td>\n",
       "      <td>-0.113521</td>\n",
       "      <td>...</td>\n",
       "      <td>-1.397181</td>\n",
       "      <td>-0.138370</td>\n",
       "      <td>-0.431856</td>\n",
       "      <td>-0.229980</td>\n",
       "      <td>-0.358118</td>\n",
       "      <td>-0.35275</td>\n",
       "      <td>1.979791</td>\n",
       "      <td>1.929116</td>\n",
       "      <td>0.698325</td>\n",
       "      <td>DoS</td>\n",
       "    </tr>\n",
       "    <tr>\n",
       "      <td>2</td>\n",
       "      <td>-0.154113</td>\n",
       "      <td>tcp</td>\n",
       "      <td>ftp_data</td>\n",
       "      <td>SF</td>\n",
       "      <td>0.005473</td>\n",
       "      <td>-0.096896</td>\n",
       "      <td>-0.017624</td>\n",
       "      <td>-0.059104</td>\n",
       "      <td>-0.019459</td>\n",
       "      <td>-0.113521</td>\n",
       "      <td>...</td>\n",
       "      <td>0.002934</td>\n",
       "      <td>-0.228985</td>\n",
       "      <td>1.559906</td>\n",
       "      <td>0.004234</td>\n",
       "      <td>-0.358118</td>\n",
       "      <td>-0.35275</td>\n",
       "      <td>-0.602719</td>\n",
       "      <td>-0.565483</td>\n",
       "      <td>0.698325</td>\n",
       "      <td>Normal</td>\n",
       "    </tr>\n",
       "    <tr>\n",
       "      <td>3</td>\n",
       "      <td>-0.155534</td>\n",
       "      <td>icmp</td>\n",
       "      <td>eco_i</td>\n",
       "      <td>SF</td>\n",
       "      <td>-0.021946</td>\n",
       "      <td>-0.096896</td>\n",
       "      <td>-0.017624</td>\n",
       "      <td>-0.059104</td>\n",
       "      <td>-0.019459</td>\n",
       "      <td>-0.113521</td>\n",
       "      <td>...</td>\n",
       "      <td>0.898090</td>\n",
       "      <td>-0.410217</td>\n",
       "      <td>2.833328</td>\n",
       "      <td>3.049016</td>\n",
       "      <td>-0.358118</td>\n",
       "      <td>-0.35275</td>\n",
       "      <td>-0.602719</td>\n",
       "      <td>-0.565483</td>\n",
       "      <td>-0.706739</td>\n",
       "      <td>Probe</td>\n",
       "    </tr>\n",
       "    <tr>\n",
       "      <td>4</td>\n",
       "      <td>-0.154823</td>\n",
       "      <td>tcp</td>\n",
       "      <td>telnet</td>\n",
       "      <td>RSTO</td>\n",
       "      <td>-0.021988</td>\n",
       "      <td>-0.096189</td>\n",
       "      <td>-0.017624</td>\n",
       "      <td>-0.059104</td>\n",
       "      <td>-0.019459</td>\n",
       "      <td>-0.113521</td>\n",
       "      <td>...</td>\n",
       "      <td>-0.685647</td>\n",
       "      <td>0.360018</td>\n",
       "      <td>-0.333901</td>\n",
       "      <td>0.004234</td>\n",
       "      <td>-0.358118</td>\n",
       "      <td>-0.35275</td>\n",
       "      <td>1.540764</td>\n",
       "      <td>1.205682</td>\n",
       "      <td>-1.643449</td>\n",
       "      <td>Probe</td>\n",
       "    </tr>\n",
       "    <tr>\n",
       "      <td>...</td>\n",
       "      <td>...</td>\n",
       "      <td>...</td>\n",
       "      <td>...</td>\n",
       "      <td>...</td>\n",
       "      <td>...</td>\n",
       "      <td>...</td>\n",
       "      <td>...</td>\n",
       "      <td>...</td>\n",
       "      <td>...</td>\n",
       "      <td>...</td>\n",
       "      <td>...</td>\n",
       "      <td>...</td>\n",
       "      <td>...</td>\n",
       "      <td>...</td>\n",
       "      <td>...</td>\n",
       "      <td>...</td>\n",
       "      <td>...</td>\n",
       "      <td>...</td>\n",
       "      <td>...</td>\n",
       "      <td>...</td>\n",
       "      <td>...</td>\n",
       "    </tr>\n",
       "    <tr>\n",
       "      <td>22539</td>\n",
       "      <td>-0.155534</td>\n",
       "      <td>tcp</td>\n",
       "      <td>smtp</td>\n",
       "      <td>SF</td>\n",
       "      <td>-0.020309</td>\n",
       "      <td>-0.081202</td>\n",
       "      <td>-0.017624</td>\n",
       "      <td>-0.059104</td>\n",
       "      <td>-0.019459</td>\n",
       "      <td>-0.113521</td>\n",
       "      <td>...</td>\n",
       "      <td>0.255414</td>\n",
       "      <td>-0.138370</td>\n",
       "      <td>-0.399204</td>\n",
       "      <td>-0.112873</td>\n",
       "      <td>-0.321505</td>\n",
       "      <td>-0.35275</td>\n",
       "      <td>-0.602719</td>\n",
       "      <td>-0.565483</td>\n",
       "      <td>0.698325</td>\n",
       "      <td>Normal</td>\n",
       "    </tr>\n",
       "    <tr>\n",
       "      <td>22540</td>\n",
       "      <td>-0.155534</td>\n",
       "      <td>tcp</td>\n",
       "      <td>http</td>\n",
       "      <td>SF</td>\n",
       "      <td>-0.021318</td>\n",
       "      <td>-0.052690</td>\n",
       "      <td>-0.017624</td>\n",
       "      <td>-0.059104</td>\n",
       "      <td>-0.019459</td>\n",
       "      <td>-0.113521</td>\n",
       "      <td>...</td>\n",
       "      <td>0.898090</td>\n",
       "      <td>-0.410217</td>\n",
       "      <td>-0.399204</td>\n",
       "      <td>-0.112873</td>\n",
       "      <td>-0.321505</td>\n",
       "      <td>-0.35275</td>\n",
       "      <td>-0.602719</td>\n",
       "      <td>-0.565483</td>\n",
       "      <td>0.698325</td>\n",
       "      <td>Normal</td>\n",
       "    </tr>\n",
       "    <tr>\n",
       "      <td>22541</td>\n",
       "      <td>-0.155534</td>\n",
       "      <td>tcp</td>\n",
       "      <td>http</td>\n",
       "      <td>SF</td>\n",
       "      <td>0.093373</td>\n",
       "      <td>0.294926</td>\n",
       "      <td>-0.017624</td>\n",
       "      <td>-0.059104</td>\n",
       "      <td>-0.019459</td>\n",
       "      <td>2.040705</td>\n",
       "      <td>...</td>\n",
       "      <td>0.898090</td>\n",
       "      <td>-0.410217</td>\n",
       "      <td>-0.431856</td>\n",
       "      <td>-0.229980</td>\n",
       "      <td>-0.358118</td>\n",
       "      <td>-0.35275</td>\n",
       "      <td>-0.421943</td>\n",
       "      <td>-0.390861</td>\n",
       "      <td>-0.706739</td>\n",
       "      <td>DoS</td>\n",
       "    </tr>\n",
       "    <tr>\n",
       "      <td>22542</td>\n",
       "      <td>-0.155534</td>\n",
       "      <td>udp</td>\n",
       "      <td>domain_u</td>\n",
       "      <td>SF</td>\n",
       "      <td>-0.021899</td>\n",
       "      <td>-0.094917</td>\n",
       "      <td>-0.017624</td>\n",
       "      <td>-0.059104</td>\n",
       "      <td>-0.019459</td>\n",
       "      <td>-0.113521</td>\n",
       "      <td>...</td>\n",
       "      <td>0.875137</td>\n",
       "      <td>-0.364909</td>\n",
       "      <td>-0.431856</td>\n",
       "      <td>-0.229980</td>\n",
       "      <td>-0.358118</td>\n",
       "      <td>-0.35275</td>\n",
       "      <td>-0.602719</td>\n",
       "      <td>-0.565483</td>\n",
       "      <td>0.698325</td>\n",
       "      <td>Normal</td>\n",
       "    </tr>\n",
       "    <tr>\n",
       "      <td>22543</td>\n",
       "      <td>-0.155534</td>\n",
       "      <td>tcp</td>\n",
       "      <td>sunrpc</td>\n",
       "      <td>REJ</td>\n",
       "      <td>-0.021988</td>\n",
       "      <td>-0.096896</td>\n",
       "      <td>-0.017624</td>\n",
       "      <td>-0.059104</td>\n",
       "      <td>-0.019459</td>\n",
       "      <td>-0.113521</td>\n",
       "      <td>...</td>\n",
       "      <td>-1.213559</td>\n",
       "      <td>-0.274293</td>\n",
       "      <td>-0.431856</td>\n",
       "      <td>-0.229980</td>\n",
       "      <td>-0.358118</td>\n",
       "      <td>-0.35275</td>\n",
       "      <td>0.533585</td>\n",
       "      <td>1.929116</td>\n",
       "      <td>-0.940917</td>\n",
       "      <td>Probe</td>\n",
       "    </tr>\n",
       "  </tbody>\n",
       "</table>\n",
       "<p>22544 rows × 43 columns</p>\n",
       "</div>"
      ],
      "text/plain": [
       "       duration protocol_type   service  flag  src_bytes  dst_bytes      land  \\\n",
       "0     -0.155534           tcp   private   REJ  -0.021988  -0.096896 -0.017624   \n",
       "1     -0.155534           tcp   private   REJ  -0.021988  -0.096896 -0.017624   \n",
       "2     -0.154113           tcp  ftp_data    SF   0.005473  -0.096896 -0.017624   \n",
       "3     -0.155534          icmp     eco_i    SF  -0.021946  -0.096896 -0.017624   \n",
       "4     -0.154823           tcp    telnet  RSTO  -0.021988  -0.096189 -0.017624   \n",
       "...         ...           ...       ...   ...        ...        ...       ...   \n",
       "22539 -0.155534           tcp      smtp    SF  -0.020309  -0.081202 -0.017624   \n",
       "22540 -0.155534           tcp      http    SF  -0.021318  -0.052690 -0.017624   \n",
       "22541 -0.155534           tcp      http    SF   0.093373   0.294926 -0.017624   \n",
       "22542 -0.155534           udp  domain_u    SF  -0.021899  -0.094917 -0.017624   \n",
       "22543 -0.155534           tcp    sunrpc   REJ  -0.021988  -0.096896 -0.017624   \n",
       "\n",
       "       wrong_fragment    urgent       hot  ...  dst_host_same_srv_rate  \\\n",
       "0           -0.059104 -0.019459 -0.113521  ...               -1.305370   \n",
       "1           -0.059104 -0.019459 -0.113521  ...               -1.397181   \n",
       "2           -0.059104 -0.019459 -0.113521  ...                0.002934   \n",
       "3           -0.059104 -0.019459 -0.113521  ...                0.898090   \n",
       "4           -0.059104 -0.019459 -0.113521  ...               -0.685647   \n",
       "...               ...       ...       ...  ...                     ...   \n",
       "22539       -0.059104 -0.019459 -0.113521  ...                0.255414   \n",
       "22540       -0.059104 -0.019459 -0.113521  ...                0.898090   \n",
       "22541       -0.059104 -0.019459  2.040705  ...                0.898090   \n",
       "22542       -0.059104 -0.019459 -0.113521  ...                0.875137   \n",
       "22543       -0.059104 -0.019459 -0.113521  ...               -1.213559   \n",
       "\n",
       "       dst_host_diff_srv_rate  dst_host_same_src_port_rate  \\\n",
       "0                   -0.138370                    -0.431856   \n",
       "1                   -0.138370                    -0.431856   \n",
       "2                   -0.228985                     1.559906   \n",
       "3                   -0.410217                     2.833328   \n",
       "4                    0.360018                    -0.333901   \n",
       "...                       ...                          ...   \n",
       "22539               -0.138370                    -0.399204   \n",
       "22540               -0.410217                    -0.399204   \n",
       "22541               -0.410217                    -0.431856   \n",
       "22542               -0.364909                    -0.431856   \n",
       "22543               -0.274293                    -0.431856   \n",
       "\n",
       "       dst_host_srv_diff_host_rate  dst_host_serror_rate  \\\n",
       "0                        -0.229980             -0.358118   \n",
       "1                        -0.229980             -0.358118   \n",
       "2                         0.004234             -0.358118   \n",
       "3                         3.049016             -0.358118   \n",
       "4                         0.004234             -0.358118   \n",
       "...                            ...                   ...   \n",
       "22539                    -0.112873             -0.321505   \n",
       "22540                    -0.112873             -0.321505   \n",
       "22541                    -0.229980             -0.358118   \n",
       "22542                    -0.229980             -0.358118   \n",
       "22543                    -0.229980             -0.358118   \n",
       "\n",
       "       dst_host_srv_serror_rate  dst_host_rerror_rate  \\\n",
       "0                      -0.35275              1.979791   \n",
       "1                      -0.35275              1.979791   \n",
       "2                      -0.35275             -0.602719   \n",
       "3                      -0.35275             -0.602719   \n",
       "4                      -0.35275              1.540764   \n",
       "...                         ...                   ...   \n",
       "22539                  -0.35275             -0.602719   \n",
       "22540                  -0.35275             -0.602719   \n",
       "22541                  -0.35275             -0.421943   \n",
       "22542                  -0.35275             -0.602719   \n",
       "22543                  -0.35275              0.533585   \n",
       "\n",
       "       dst_host_srv_rerror_rate  difficulty  attack_class  \n",
       "0                      1.929116    0.698325           DoS  \n",
       "1                      1.929116    0.698325           DoS  \n",
       "2                     -0.565483    0.698325        Normal  \n",
       "3                     -0.565483   -0.706739         Probe  \n",
       "4                      1.205682   -1.643449         Probe  \n",
       "...                         ...         ...           ...  \n",
       "22539                 -0.565483    0.698325        Normal  \n",
       "22540                 -0.565483    0.698325        Normal  \n",
       "22541                 -0.390861   -0.706739           DoS  \n",
       "22542                 -0.565483    0.698325        Normal  \n",
       "22543                  1.929116   -0.940917         Probe  \n",
       "\n",
       "[22544 rows x 43 columns]"
      ]
     },
     "execution_count": 23,
     "metadata": {},
     "output_type": "execute_result"
    }
   ],
   "source": [
    "# showing the results of numerical features after applying scaler(converted to np array) MUST BE CONVERTED BACK TO data_testFRAME\n",
    "\n",
    "numerical_f=[]\n",
    "for col in data.columns.values:\n",
    "# Encoding only categorical variables\n",
    "    if data[col].dtypes=='float64'or data[col].dtypes=='int64':\n",
    "        numerical_f.append(data[col].name)\n",
    "        \n",
    "        \n",
    "data[numerical_f] = scaler.fit_transform(data[numerical_f])\n",
    "        \n",
    "data[numerical_f]=scaler.fit_transform(data[numerical_f])\n",
    "data\n",
    "\n",
    "\n",
    "\n",
    "\n",
    "\n",
    "\n",
    "for col in data_test.columns.values:\n",
    "# Encoding only categorical variables\n",
    "    if data_test[col].dtypes=='float64'or data_test[col].dtypes=='int64':\n",
    "        numerical_f.append(data_test[col].name)\n",
    "        \n",
    "        \n",
    "data_test[numerical_f] = scaler.fit_transform(data_test[numerical_f])\n",
    "        \n",
    "data_test[numerical_f]=scaler.fit_transform(data_test[numerical_f])\n",
    "data_test"
   ]
  },
  {
   "cell_type": "markdown",
   "metadata": {},
   "source": [
    "# ENCODING CATEGORIAL DATA"
   ]
  },
  {
   "cell_type": "code",
   "execution_count": 24,
   "metadata": {},
   "outputs": [
    {
     "data": {
      "text/plain": [
       "['protocol_type', 'service', 'flag', 'attack_class']"
      ]
     },
     "execution_count": 24,
     "metadata": {},
     "output_type": "execute_result"
    }
   ],
   "source": [
    "# the next step of data preprocessing is to convert all the categorial attributes to encodings so they can be easily used \n",
    "# in the training models and provide more accurate results\n",
    "#======================================== STEP 5FEATURE ENCODING==============================================\n",
    "\n",
    "#Sklearn provides a very efficient tool for encoding the levels of a categorical features into numeric values\n",
    "#. LabelEncoder encode labels with value between 0 and n_classes-1\n",
    "#plus  one hot encoding to get more better results\n",
    "\n",
    "'''A one hot encoding allows the representation of categorical data to be more expressive.\n",
    "\n",
    "Many machine learning algorithms cannot work with categorical data directly. The categories \n",
    "must be converted into numbers. This is required for both input and output variables that are categorical.\n",
    "'''\n",
    "\n",
    "encoded_names=[]#later to be used on\n",
    "from sklearn.preprocessing import LabelEncoder\n",
    "le=LabelEncoder()\n",
    "\n",
    "\n",
    "# dropping the attack class because we dont need its encodings\n",
    "\n",
    "\n",
    "\n",
    "# Iterating over all the common columns in train data\n",
    "\n",
    "for col in data.columns.values:\n",
    "# Encoding only categorical variables\n",
    "    if data[col].dtypes=='object':\n",
    "        encoded_names.append(data[col].name)\n",
    "\n",
    "        data[col]= le.fit_transform(data[col])\n",
    "        \n",
    "        \n",
    "        \n",
    "        \n",
    "\n",
    "\n",
    "for col in data_test.columns.values:\n",
    "# Encoding only categorical variables\n",
    "    if data_test[col].dtypes=='object':\n",
    "\n",
    "        data_test[col]= le.fit_transform(data_test[col])\n",
    "        \n",
    "        \n",
    "        \n",
    "\n",
    "\n",
    "\n",
    "\n",
    "\n",
    "# separate target column from encoded data \n",
    "encoded_train = data.drop(['attack_class'], axis=1)\n",
    "encoded_test = data_test.drop(['attack_class'], axis=1)\n",
    "\n",
    "\n",
    "\n",
    "\n",
    "\n",
    "\n",
    "\n",
    "Ytrain = data[['attack_class']].copy()\n",
    "Ytest = data_test[['attack_class']].copy()\n",
    "\n",
    "\n",
    "\n",
    "\n",
    "encoded_names\n",
    "\n"
   ]
  },
  {
   "cell_type": "code",
   "execution_count": 25,
   "metadata": {},
   "outputs": [
    {
     "data": {
      "text/html": [
       "<div>\n",
       "<style scoped>\n",
       "    .dataframe tbody tr th:only-of-type {\n",
       "        vertical-align: middle;\n",
       "    }\n",
       "\n",
       "    .dataframe tbody tr th {\n",
       "        vertical-align: top;\n",
       "    }\n",
       "\n",
       "    .dataframe thead th {\n",
       "        text-align: right;\n",
       "    }\n",
       "</style>\n",
       "<table border=\"1\" class=\"dataframe\">\n",
       "  <thead>\n",
       "    <tr style=\"text-align: right;\">\n",
       "      <th></th>\n",
       "      <th>duration</th>\n",
       "      <th>protocol_type</th>\n",
       "      <th>service</th>\n",
       "      <th>flag</th>\n",
       "      <th>src_bytes</th>\n",
       "      <th>dst_bytes</th>\n",
       "      <th>land</th>\n",
       "      <th>wrong_fragment</th>\n",
       "      <th>urgent</th>\n",
       "      <th>hot</th>\n",
       "      <th>...</th>\n",
       "      <th>dst_host_srv_count</th>\n",
       "      <th>dst_host_same_srv_rate</th>\n",
       "      <th>dst_host_diff_srv_rate</th>\n",
       "      <th>dst_host_same_src_port_rate</th>\n",
       "      <th>dst_host_srv_diff_host_rate</th>\n",
       "      <th>dst_host_serror_rate</th>\n",
       "      <th>dst_host_srv_serror_rate</th>\n",
       "      <th>dst_host_rerror_rate</th>\n",
       "      <th>dst_host_srv_rerror_rate</th>\n",
       "      <th>difficulty</th>\n",
       "    </tr>\n",
       "  </thead>\n",
       "  <tbody>\n",
       "    <tr>\n",
       "      <td>0</td>\n",
       "      <td>-0.110249</td>\n",
       "      <td>1</td>\n",
       "      <td>20</td>\n",
       "      <td>9</td>\n",
       "      <td>-0.007679</td>\n",
       "      <td>-0.004919</td>\n",
       "      <td>-0.014089</td>\n",
       "      <td>-0.089486</td>\n",
       "      <td>-0.007736</td>\n",
       "      <td>-0.095076</td>\n",
       "      <td>...</td>\n",
       "      <td>-0.818890</td>\n",
       "      <td>-0.782367</td>\n",
       "      <td>-0.280282</td>\n",
       "      <td>0.069972</td>\n",
       "      <td>-0.289103</td>\n",
       "      <td>-0.639532</td>\n",
       "      <td>-0.624871</td>\n",
       "      <td>-0.224532</td>\n",
       "      <td>-0.376387</td>\n",
       "      <td>0.216426</td>\n",
       "    </tr>\n",
       "    <tr>\n",
       "      <td>1</td>\n",
       "      <td>-0.110249</td>\n",
       "      <td>2</td>\n",
       "      <td>44</td>\n",
       "      <td>9</td>\n",
       "      <td>-0.007737</td>\n",
       "      <td>-0.004919</td>\n",
       "      <td>-0.014089</td>\n",
       "      <td>-0.089486</td>\n",
       "      <td>-0.007736</td>\n",
       "      <td>-0.095076</td>\n",
       "      <td>...</td>\n",
       "      <td>-1.035688</td>\n",
       "      <td>-1.161030</td>\n",
       "      <td>2.736852</td>\n",
       "      <td>2.367737</td>\n",
       "      <td>-0.289103</td>\n",
       "      <td>-0.639532</td>\n",
       "      <td>-0.624871</td>\n",
       "      <td>-0.387635</td>\n",
       "      <td>-0.376387</td>\n",
       "      <td>-1.965556</td>\n",
       "    </tr>\n",
       "    <tr>\n",
       "      <td>2</td>\n",
       "      <td>-0.110249</td>\n",
       "      <td>1</td>\n",
       "      <td>49</td>\n",
       "      <td>5</td>\n",
       "      <td>-0.007762</td>\n",
       "      <td>-0.004919</td>\n",
       "      <td>-0.014089</td>\n",
       "      <td>-0.089486</td>\n",
       "      <td>-0.007736</td>\n",
       "      <td>-0.095076</td>\n",
       "      <td>...</td>\n",
       "      <td>-0.809857</td>\n",
       "      <td>-0.938287</td>\n",
       "      <td>-0.174417</td>\n",
       "      <td>-0.480197</td>\n",
       "      <td>-0.289103</td>\n",
       "      <td>1.608759</td>\n",
       "      <td>1.618955</td>\n",
       "      <td>-0.387635</td>\n",
       "      <td>-0.376387</td>\n",
       "      <td>-0.219970</td>\n",
       "    </tr>\n",
       "    <tr>\n",
       "      <td>3</td>\n",
       "      <td>-0.110249</td>\n",
       "      <td>1</td>\n",
       "      <td>24</td>\n",
       "      <td>9</td>\n",
       "      <td>-0.007723</td>\n",
       "      <td>-0.002891</td>\n",
       "      <td>-0.014089</td>\n",
       "      <td>-0.089486</td>\n",
       "      <td>-0.007736</td>\n",
       "      <td>-0.095076</td>\n",
       "      <td>...</td>\n",
       "      <td>1.258754</td>\n",
       "      <td>1.066401</td>\n",
       "      <td>-0.439078</td>\n",
       "      <td>-0.383108</td>\n",
       "      <td>0.066252</td>\n",
       "      <td>-0.572083</td>\n",
       "      <td>-0.602433</td>\n",
       "      <td>-0.387635</td>\n",
       "      <td>-0.345084</td>\n",
       "      <td>0.652823</td>\n",
       "    </tr>\n",
       "    <tr>\n",
       "      <td>4</td>\n",
       "      <td>-0.110249</td>\n",
       "      <td>1</td>\n",
       "      <td>24</td>\n",
       "      <td>9</td>\n",
       "      <td>-0.007728</td>\n",
       "      <td>-0.004814</td>\n",
       "      <td>-0.014089</td>\n",
       "      <td>-0.089486</td>\n",
       "      <td>-0.007736</td>\n",
       "      <td>-0.095076</td>\n",
       "      <td>...</td>\n",
       "      <td>1.258754</td>\n",
       "      <td>1.066401</td>\n",
       "      <td>-0.439078</td>\n",
       "      <td>-0.480197</td>\n",
       "      <td>-0.289103</td>\n",
       "      <td>-0.639532</td>\n",
       "      <td>-0.624871</td>\n",
       "      <td>-0.387635</td>\n",
       "      <td>-0.376387</td>\n",
       "      <td>0.652823</td>\n",
       "    </tr>\n",
       "    <tr>\n",
       "      <td>...</td>\n",
       "      <td>...</td>\n",
       "      <td>...</td>\n",
       "      <td>...</td>\n",
       "      <td>...</td>\n",
       "      <td>...</td>\n",
       "      <td>...</td>\n",
       "      <td>...</td>\n",
       "      <td>...</td>\n",
       "      <td>...</td>\n",
       "      <td>...</td>\n",
       "      <td>...</td>\n",
       "      <td>...</td>\n",
       "      <td>...</td>\n",
       "      <td>...</td>\n",
       "      <td>...</td>\n",
       "      <td>...</td>\n",
       "      <td>...</td>\n",
       "      <td>...</td>\n",
       "      <td>...</td>\n",
       "      <td>...</td>\n",
       "      <td>...</td>\n",
       "    </tr>\n",
       "    <tr>\n",
       "      <td>125968</td>\n",
       "      <td>-0.110249</td>\n",
       "      <td>1</td>\n",
       "      <td>49</td>\n",
       "      <td>5</td>\n",
       "      <td>-0.007762</td>\n",
       "      <td>-0.004919</td>\n",
       "      <td>-0.014089</td>\n",
       "      <td>-0.089486</td>\n",
       "      <td>-0.007736</td>\n",
       "      <td>-0.095076</td>\n",
       "      <td>...</td>\n",
       "      <td>-0.818890</td>\n",
       "      <td>-0.938287</td>\n",
       "      <td>-0.121485</td>\n",
       "      <td>-0.480197</td>\n",
       "      <td>-0.289103</td>\n",
       "      <td>1.608759</td>\n",
       "      <td>1.618955</td>\n",
       "      <td>-0.387635</td>\n",
       "      <td>-0.376387</td>\n",
       "      <td>0.216426</td>\n",
       "    </tr>\n",
       "    <tr>\n",
       "      <td>125969</td>\n",
       "      <td>-0.107178</td>\n",
       "      <td>2</td>\n",
       "      <td>49</td>\n",
       "      <td>9</td>\n",
       "      <td>-0.007744</td>\n",
       "      <td>-0.004883</td>\n",
       "      <td>-0.014089</td>\n",
       "      <td>-0.089486</td>\n",
       "      <td>-0.007736</td>\n",
       "      <td>-0.095076</td>\n",
       "      <td>...</td>\n",
       "      <td>1.159389</td>\n",
       "      <td>0.977304</td>\n",
       "      <td>-0.386146</td>\n",
       "      <td>-0.447834</td>\n",
       "      <td>-0.289103</td>\n",
       "      <td>-0.639532</td>\n",
       "      <td>-0.624871</td>\n",
       "      <td>-0.387635</td>\n",
       "      <td>-0.376387</td>\n",
       "      <td>0.652823</td>\n",
       "    </tr>\n",
       "    <tr>\n",
       "      <td>125970</td>\n",
       "      <td>-0.110249</td>\n",
       "      <td>1</td>\n",
       "      <td>54</td>\n",
       "      <td>9</td>\n",
       "      <td>-0.007382</td>\n",
       "      <td>-0.004823</td>\n",
       "      <td>-0.014089</td>\n",
       "      <td>-0.089486</td>\n",
       "      <td>-0.007736</td>\n",
       "      <td>-0.095076</td>\n",
       "      <td>...</td>\n",
       "      <td>-0.773724</td>\n",
       "      <td>-0.893738</td>\n",
       "      <td>-0.121485</td>\n",
       "      <td>-0.480197</td>\n",
       "      <td>-0.289103</td>\n",
       "      <td>0.979238</td>\n",
       "      <td>-0.624871</td>\n",
       "      <td>-0.355014</td>\n",
       "      <td>-0.376387</td>\n",
       "      <td>-0.656367</td>\n",
       "    </tr>\n",
       "    <tr>\n",
       "      <td>125971</td>\n",
       "      <td>-0.110249</td>\n",
       "      <td>1</td>\n",
       "      <td>30</td>\n",
       "      <td>5</td>\n",
       "      <td>-0.007762</td>\n",
       "      <td>-0.004919</td>\n",
       "      <td>-0.014089</td>\n",
       "      <td>-0.089486</td>\n",
       "      <td>-0.007736</td>\n",
       "      <td>-0.095076</td>\n",
       "      <td>...</td>\n",
       "      <td>-0.972455</td>\n",
       "      <td>-1.094207</td>\n",
       "      <td>-0.174417</td>\n",
       "      <td>-0.480197</td>\n",
       "      <td>-0.289103</td>\n",
       "      <td>1.608759</td>\n",
       "      <td>1.618955</td>\n",
       "      <td>-0.387635</td>\n",
       "      <td>-0.376387</td>\n",
       "      <td>0.216426</td>\n",
       "    </tr>\n",
       "    <tr>\n",
       "      <td>125972</td>\n",
       "      <td>-0.110249</td>\n",
       "      <td>1</td>\n",
       "      <td>20</td>\n",
       "      <td>9</td>\n",
       "      <td>-0.007737</td>\n",
       "      <td>-0.004919</td>\n",
       "      <td>-0.014089</td>\n",
       "      <td>-0.089486</td>\n",
       "      <td>-0.007736</td>\n",
       "      <td>-0.095076</td>\n",
       "      <td>...</td>\n",
       "      <td>-0.349162</td>\n",
       "      <td>-0.492801</td>\n",
       "      <td>-0.280282</td>\n",
       "      <td>0.490690</td>\n",
       "      <td>-0.289103</td>\n",
       "      <td>-0.639532</td>\n",
       "      <td>-0.624871</td>\n",
       "      <td>-0.387635</td>\n",
       "      <td>-0.376387</td>\n",
       "      <td>0.652823</td>\n",
       "    </tr>\n",
       "  </tbody>\n",
       "</table>\n",
       "<p>125973 rows × 42 columns</p>\n",
       "</div>"
      ],
      "text/plain": [
       "        duration  protocol_type  service  flag  src_bytes  dst_bytes  \\\n",
       "0      -0.110249              1       20     9  -0.007679  -0.004919   \n",
       "1      -0.110249              2       44     9  -0.007737  -0.004919   \n",
       "2      -0.110249              1       49     5  -0.007762  -0.004919   \n",
       "3      -0.110249              1       24     9  -0.007723  -0.002891   \n",
       "4      -0.110249              1       24     9  -0.007728  -0.004814   \n",
       "...          ...            ...      ...   ...        ...        ...   \n",
       "125968 -0.110249              1       49     5  -0.007762  -0.004919   \n",
       "125969 -0.107178              2       49     9  -0.007744  -0.004883   \n",
       "125970 -0.110249              1       54     9  -0.007382  -0.004823   \n",
       "125971 -0.110249              1       30     5  -0.007762  -0.004919   \n",
       "125972 -0.110249              1       20     9  -0.007737  -0.004919   \n",
       "\n",
       "            land  wrong_fragment    urgent       hot  ...  dst_host_srv_count  \\\n",
       "0      -0.014089       -0.089486 -0.007736 -0.095076  ...           -0.818890   \n",
       "1      -0.014089       -0.089486 -0.007736 -0.095076  ...           -1.035688   \n",
       "2      -0.014089       -0.089486 -0.007736 -0.095076  ...           -0.809857   \n",
       "3      -0.014089       -0.089486 -0.007736 -0.095076  ...            1.258754   \n",
       "4      -0.014089       -0.089486 -0.007736 -0.095076  ...            1.258754   \n",
       "...          ...             ...       ...       ...  ...                 ...   \n",
       "125968 -0.014089       -0.089486 -0.007736 -0.095076  ...           -0.818890   \n",
       "125969 -0.014089       -0.089486 -0.007736 -0.095076  ...            1.159389   \n",
       "125970 -0.014089       -0.089486 -0.007736 -0.095076  ...           -0.773724   \n",
       "125971 -0.014089       -0.089486 -0.007736 -0.095076  ...           -0.972455   \n",
       "125972 -0.014089       -0.089486 -0.007736 -0.095076  ...           -0.349162   \n",
       "\n",
       "        dst_host_same_srv_rate  dst_host_diff_srv_rate  \\\n",
       "0                    -0.782367               -0.280282   \n",
       "1                    -1.161030                2.736852   \n",
       "2                    -0.938287               -0.174417   \n",
       "3                     1.066401               -0.439078   \n",
       "4                     1.066401               -0.439078   \n",
       "...                        ...                     ...   \n",
       "125968               -0.938287               -0.121485   \n",
       "125969                0.977304               -0.386146   \n",
       "125970               -0.893738               -0.121485   \n",
       "125971               -1.094207               -0.174417   \n",
       "125972               -0.492801               -0.280282   \n",
       "\n",
       "        dst_host_same_src_port_rate  dst_host_srv_diff_host_rate  \\\n",
       "0                          0.069972                    -0.289103   \n",
       "1                          2.367737                    -0.289103   \n",
       "2                         -0.480197                    -0.289103   \n",
       "3                         -0.383108                     0.066252   \n",
       "4                         -0.480197                    -0.289103   \n",
       "...                             ...                          ...   \n",
       "125968                    -0.480197                    -0.289103   \n",
       "125969                    -0.447834                    -0.289103   \n",
       "125970                    -0.480197                    -0.289103   \n",
       "125971                    -0.480197                    -0.289103   \n",
       "125972                     0.490690                    -0.289103   \n",
       "\n",
       "        dst_host_serror_rate  dst_host_srv_serror_rate  dst_host_rerror_rate  \\\n",
       "0                  -0.639532                 -0.624871             -0.224532   \n",
       "1                  -0.639532                 -0.624871             -0.387635   \n",
       "2                   1.608759                  1.618955             -0.387635   \n",
       "3                  -0.572083                 -0.602433             -0.387635   \n",
       "4                  -0.639532                 -0.624871             -0.387635   \n",
       "...                      ...                       ...                   ...   \n",
       "125968              1.608759                  1.618955             -0.387635   \n",
       "125969             -0.639532                 -0.624871             -0.387635   \n",
       "125970              0.979238                 -0.624871             -0.355014   \n",
       "125971              1.608759                  1.618955             -0.387635   \n",
       "125972             -0.639532                 -0.624871             -0.387635   \n",
       "\n",
       "        dst_host_srv_rerror_rate  difficulty  \n",
       "0                      -0.376387    0.216426  \n",
       "1                      -0.376387   -1.965556  \n",
       "2                      -0.376387   -0.219970  \n",
       "3                      -0.345084    0.652823  \n",
       "4                      -0.376387    0.652823  \n",
       "...                          ...         ...  \n",
       "125968                 -0.376387    0.216426  \n",
       "125969                 -0.376387    0.652823  \n",
       "125970                 -0.376387   -0.656367  \n",
       "125971                 -0.376387    0.216426  \n",
       "125972                 -0.376387    0.652823  \n",
       "\n",
       "[125973 rows x 42 columns]"
      ]
     },
     "execution_count": 25,
     "metadata": {},
     "output_type": "execute_result"
    }
   ],
   "source": [
    "encoded_train  # all categorial data has been converted to encodings now they can be used in ml models"
   ]
  },
  {
   "cell_type": "markdown",
   "metadata": {},
   "source": [
    "# APPLYING THE RANDOMOVERSAMPLING TO TACKLE UNBALANCED DISTRIBUTION"
   ]
  },
  {
   "cell_type": "code",
   "execution_count": 26,
   "metadata": {},
   "outputs": [],
   "source": [
    "# the next step is of data sampling in the dataset\n",
    "#Data sampling is a statistical analysis technique used to select, \n",
    "#manipulate and analyze a representative subset of data points\n",
    "#to identify patterns and trends in the larger data set being examined\n",
    "#'''Random resampling provides a naive technique for rebalancing the class distribution for an imbalanced dataset.\n",
    "#Random oversampling duplicates examples from the minority class in the training dataset and can result in overfitting for some models.\n",
    "#Random undersampling deletes examples from the majority class and can result in losing information invaluable to a model.\n",
    "#'''"
   ]
  },
  {
   "cell_type": "code",
   "execution_count": 27,
   "metadata": {},
   "outputs": [
    {
     "name": "stdout",
     "output_type": "stream",
     "text": [
      "125973 is the size of 1 dimensional np array \n"
     ]
    }
   ],
   "source": [
    "# we apply random oversampling to balance the data by sampling the minority class with replacement\n",
    "\n",
    "# reshape target column attack_class to 1D array shape 1 d array is made because the random oversampling requires so\n",
    "c, r = Ytrain.values.shape\n",
    "Ytrain = Ytrain.values.reshape(c,)\n",
    "print(Ytrain.size ,'is the size of 1 dimensional np array ')\n",
    "#reshaping the target column in test dataset\n",
    "d, e = Ytest.values.shape\n",
    "Ytest = Ytest.values.reshape(d,)\n"
   ]
  },
  {
   "cell_type": "code",
   "execution_count": 28,
   "metadata": {},
   "outputs": [
    {
     "name": "stdout",
     "output_type": "stream",
     "text": [
      "Original dataset shape Counter({1: 67343, 0: 45927, 2: 11656, 3: 995, 4: 52})\n",
      "Resampled dataset shape Counter({1: 67343, 4: 67343, 0: 45927, 2: 11656, 3: 995})\n",
      "Original dataset shape Counter({1: 9711, 0: 7458, 3: 2754, 2: 2421, 4: 200})\n",
      "Resampled dataset shape Counter({1: 9711, 4: 9711, 0: 7458, 3: 2754, 2: 2421})\n"
     ]
    }
   ],
   "source": [
    "#importing the imbalanced learn library\n",
    "from imblearn.over_sampling import RandomOverSampler \n",
    "from collections import Counter\n",
    "#making a random over sampling function focused on over sampling the minority class\n",
    "func = RandomOverSampler(sampling_strategy = 'minority')\n",
    "\n",
    "\n",
    "#doing the oversampling in the training dataset\n",
    "x_overs, y_overs = func.fit_resample(encoded_train,Ytrain)\n",
    "#results of oversampling\n",
    "\n",
    "\n",
    "\n",
    "\n",
    "\n",
    "#doing the oversampling in the training dataset\n",
    "x_overs_test, y_overs_test = func.fit_resample(encoded_test,Ytest)\n",
    "#results of oversampling\n",
    "print('Original dataset shape {}'.format(Counter(Ytrain)))\n",
    "print('Resampled dataset shape {}'.format(Counter(y_overs)))\n",
    "print('Original dataset shape {}'.format(Counter(Ytest)))\n",
    "print('Resampled dataset shape {}'.format(Counter(y_overs_test)))\n"
   ]
  },
  {
   "cell_type": "code",
   "execution_count": 29,
   "metadata": {},
   "outputs": [],
   "source": [
    "#in the above output it can be observed that the oversampling has been done and minority classes have been filled with copies \n",
    "#to make the elements in minority calss greater so ml algorithm can give more accurate results"
   ]
  },
  {
   "cell_type": "markdown",
   "metadata": {},
   "source": [
    "# FEATURE SELECTION STAGE"
   ]
  },
  {
   "cell_type": "code",
   "execution_count": 30,
   "metadata": {},
   "outputs": [
    {
     "data": {
      "text/plain": [
       "array([0, 0, 1, ..., 0, 1, 2])"
      ]
     },
     "execution_count": 30,
     "metadata": {},
     "output_type": "execute_result"
    }
   ],
   "source": [
    "#=========================================STEP6 : FEATURE SELECTION======================================================\n"
   ]
  },
  {
   "cell_type": "code",
   "execution_count": 31,
   "metadata": {},
   "outputs": [],
   "source": [
    "#in data science we have hundreds or even millions of features and we want a way to create a \n",
    "#model that only includes the most important features. This has three benefits. First, we make our model more simple\n",
    "#to interpret. Second, we can reduce the variance of the model, and therefore overfitting. \n",
    "#Finally, we can reduce the computational cost (and time) of training a model. The process of \n",
    "#identifying only the most relevant features is called “feature selection'"
   ]
  },
  {
   "cell_type": "code",
   "execution_count": 32,
   "metadata": {},
   "outputs": [],
   "source": [
    "# we will use random forest classifier algorithm for feature selection\n",
    "#================================working of a random forest tree classifier=================================\n",
    "#Random forests consist of 4 –12 hundred decision trees, each of them built over a random extraction of the observations \n",
    "#from the dataset and a random extraction of the features. Not every tree sees all the features or all the observations,\n",
    "#and this guarantees that the trees are de-correlated and therefore less prone to over-fitting. Each tree is also a \n",
    "#sequence of yes-no questions based on a single or combination of features. At each node (this is at each question),\n",
    "#the three divides the dataset into 2 buckets, each of them hosting observations that are more similar among themselves\n",
    "#and different from the ones in the other bucket. Therefore, the importance of each feature is derived from how “pure”\n",
    "#each of the buckets is.\n",
    "\n",
    "\n"
   ]
  },
  {
   "cell_type": "code",
   "execution_count": 33,
   "metadata": {},
   "outputs": [
    {
     "name": "stderr",
     "output_type": "stream",
     "text": [
      "C:\\Users\\Rehan\\Anaconda3\\lib\\site-packages\\sklearn\\utils\\deprecation.py:144: FutureWarning: The sklearn.ensemble.forest module is  deprecated in version 0.22 and will be removed in version 0.24. The corresponding classes / functions should instead be imported from sklearn.ensemble. Anything that cannot be imported from sklearn.ensemble is now part of the private API.\n",
      "  warnings.warn(message, FutureWarning)\n"
     ]
    },
    {
     "data": {
      "text/plain": [
       "RandomForestClassifier(bootstrap=True, ccp_alpha=0.0, class_weight=None,\n",
       "                       criterion='gini', max_depth=None, max_features='auto',\n",
       "                       max_leaf_nodes=None, max_samples=None,\n",
       "                       min_impurity_decrease=0.0, min_impurity_split=None,\n",
       "                       min_samples_leaf=1, min_samples_split=2,\n",
       "                       min_weight_fraction_leaf=0.0, n_estimators=1000,\n",
       "                       n_jobs=None, oob_score=False, random_state=None,\n",
       "                       verbose=0, warm_start=False)"
      ]
     },
     "execution_count": 33,
     "metadata": {},
     "output_type": "execute_result"
    }
   ],
   "source": [
    "from sklearn.ensemble.forest import RandomForestClassifier\n",
    " \n",
    "classifier = RandomForestClassifier(n_estimators= 1000)\n",
    "\n",
    "# it makes 100 trees can be made more to increase no of trees \n",
    "classifier.fit(x_overs, y_overs)"
   ]
  },
  {
   "cell_type": "code",
   "execution_count": 34,
   "metadata": {},
   "outputs": [],
   "source": [
    "#A random forest is a meta estimator that fits a number of decision tree classifiers on various sub-samples of the dataset \n",
    "#and uses averaging to improve the predictive accuracy and control over-fitting. The sub-sample size is always the same as \n",
    "#the original input sample size but the samples are drawn with replacement if\n"
   ]
  },
  {
   "cell_type": "code",
   "execution_count": 35,
   "metadata": {},
   "outputs": [
    {
     "name": "stdout",
     "output_type": "stream",
     "text": [
      "[2.95776457e-02 1.82051041e-02 3.48846282e-02 5.13403780e-02\n",
      " 5.79623601e-02 5.13354884e-02 1.99279728e-05 3.56688526e-03\n",
      " 1.10652407e-05 9.69899447e-03 2.04059681e-04 1.37222663e-02\n",
      " 4.67728985e-03 1.26079868e-02 4.09492212e-05 2.57332172e-03\n",
      " 7.91502741e-03 3.50955884e-04 2.44723413e-05 0.00000000e+00\n",
      " 0.00000000e+00 1.41849078e-03 3.45761118e-02 3.38023868e-02\n",
      " 2.01217005e-02 1.73555230e-02 6.62242025e-03 3.55364894e-03\n",
      " 4.92882125e-02 2.05340766e-02 6.77019286e-03 5.16595279e-02\n",
      " 1.01672272e-01 1.86772997e-02 2.87471136e-02 3.18808142e-02\n",
      " 1.02058803e-02 3.90190821e-02 2.79138057e-02 1.02822345e-02\n",
      " 7.08657222e-03 1.80093827e-01]\n"
     ]
    }
   ],
   "source": [
    "#plotting the importance of each selected feature  (rounding the data so it can be plotted)\n",
    "print(classifier.feature_importances_)"
   ]
  },
  {
   "cell_type": "code",
   "execution_count": 36,
   "metadata": {},
   "outputs": [
    {
     "data": {
      "text/plain": [
       "array([0.03 , 0.018, 0.035, 0.051, 0.058, 0.051, 0.   , 0.004, 0.   ,\n",
       "       0.01 , 0.   , 0.014, 0.005, 0.013, 0.   , 0.003, 0.008, 0.   ,\n",
       "       0.   , 0.   , 0.   , 0.001, 0.035, 0.034, 0.02 , 0.017, 0.007,\n",
       "       0.004, 0.049, 0.021, 0.007, 0.052, 0.102, 0.019, 0.029, 0.032,\n",
       "       0.01 , 0.039, 0.028, 0.01 , 0.007, 0.18 ])"
      ]
     },
     "execution_count": 36,
     "metadata": {},
     "output_type": "execute_result"
    }
   ],
   "source": [
    "score = np.round(classifier.feature_importances_,3)\n",
    "score"
   ]
  },
  {
   "cell_type": "code",
   "execution_count": 37,
   "metadata": {},
   "outputs": [
    {
     "data": {
      "image/png": "[encoded data removed]",
      "text/plain": [
       "<Figure size 432x288 with 1 Axes>"
      ]
     },
     "metadata": {
      "needs_background": "light"
     },
     "output_type": "display_data"
    }
   ],
   "source": [
    "#create a dataframe to plot\n",
    "plot_imp = pd.DataFrame({'feature':x_overs,'importance':score}).plot(kind='bar', x= 'feature')"
   ]
  },
  {
   "cell_type": "code",
   "execution_count": 38,
   "metadata": {},
   "outputs": [],
   "source": [
    "#the results of random forest classifier are shown visually , we get clear idea of important features\n"
   ]
  },
  {
   "cell_type": "code",
   "execution_count": 39,
   "metadata": {},
   "outputs": [
    {
     "name": "stdout",
     "output_type": "stream",
     "text": [
      "Index(['service', 'flag', 'src_bytes', 'dst_bytes', 'count', 'srv_count',\n",
      "       'same_srv_rate', 'diff_srv_rate', 'dst_host_count',\n",
      "       'dst_host_srv_count', 'dst_host_same_src_port_rate',\n",
      "       'dst_host_serror_rate', 'dst_host_srv_serror_rate', 'difficulty'],\n",
      "      dtype='object')\n"
     ]
    }
   ],
   "source": [
    "#we can verify our results by of important features by using following function\n",
    "from sklearn.ensemble import RandomForestClassifier\n",
    "from sklearn.feature_selection import SelectFromModel #selection function already made by library\n",
    "selector = SelectFromModel(RandomForestClassifier(n_estimators = 100))#applying forest classification\n",
    "selector.fit(x_overs, y_overs) \n",
    "selected_feat= x_overs.columns[(selector.get_support())]#extracing the important features\n",
    "print(selected_feat)"
   ]
  },
  {
   "cell_type": "code",
   "execution_count": 40,
   "metadata": {},
   "outputs": [],
   "source": [
    "#redesigning the dataset and using the one hot coding data preprocessing technique\n",
    "\n",
    "\n",
    "X_train = x_overs[['service', 'flag', 'src_bytes', 'dst_bytes', 'count', 'srv_count',\n",
    "       'srv_serror_rate', 'same_srv_rate', 'dst_host_count',\n",
    "       'dst_host_srv_count', 'dst_host_same_src_port_rate',\n",
    "       'dst_host_serror_rate', 'difficulty']]\n",
    "\n",
    "X_test= encoded_test[['service', 'flag', 'src_bytes', 'dst_bytes', 'count', 'srv_count',\n",
    "       'srv_serror_rate', 'same_srv_rate', 'dst_host_count',\n",
    "       'dst_host_srv_count', 'dst_host_same_src_port_rate',\n",
    "       'dst_host_serror_rate', 'difficulty']]\n",
    "#making a simple dataframe for applying one hot encoding\n",
    "X_data = pd.concat([X_train,X_test])\n",
    "\n",
    "\n",
    "\n",
    "\n",
    "#calling the function \n",
    "from sklearn.preprocessing import OneHotEncoder\n",
    "enc = OneHotEncoder()\n",
    "\n",
    "\n",
    "#specifically applying on the categorial features\n",
    "\n",
    "\n",
    "Xcateg_1 = X_data[['service']].copy()\n",
    "\n",
    "Xcateg_2 = X_data[['flag']].copy()\n",
    "one_hot_encodings1 = enc.fit_transform(Xcateg_1).toarray()\n",
    "\n",
    "one_hot_encodings2 = enc.fit_transform(Xcateg_2).toarray()\n",
    "X_data = X_data.drop(['service'],axis=1)\n",
    "\n",
    "X_data = X_data.drop(['flag'],axis=1)\n",
    "\n",
    "X_data = np.concatenate([X_data.values,one_hot_encodings1],axis=1)\n",
    "\n",
    "X_data = np.concatenate([X_data,one_hot_encodings2],axis=1)"
   ]
  },
  {
   "cell_type": "code",
   "execution_count": 41,
   "metadata": {},
   "outputs": [
    {
     "data": {
      "text/plain": [
       "(215808, 92)"
      ]
     },
     "execution_count": 41,
     "metadata": {},
     "output_type": "execute_result"
    }
   ],
   "source": [
    "X_data.shape"
   ]
  },
  {
   "cell_type": "code",
   "execution_count": 42,
   "metadata": {},
   "outputs": [
    {
     "data": {
      "text/plain": [
       "(148517, 92)"
      ]
     },
     "execution_count": 42,
     "metadata": {},
     "output_type": "execute_result"
    }
   ],
   "source": [
    "#now arranging the y in a single array\n",
    "y_data=np.concatenate([Ytrain,Ytest])\n",
    "\n",
    "y_data.shape\n",
    "\n",
    "\n",
    "\n",
    "\n",
    "#shapping the x and y so they can be equal\n",
    "\n",
    "\n",
    "X_data= X_data[:-67291, :]\n",
    "X_data.shape\n"
   ]
  },
  {
   "cell_type": "code",
   "execution_count": null,
   "metadata": {},
   "outputs": [],
   "source": []
  },
  {
   "cell_type": "code",
   "execution_count": 81,
   "metadata": {},
   "outputs": [
    {
     "data": {
      "text/plain": [
       "(96536, 92)"
      ]
     },
     "execution_count": 81,
     "metadata": {},
     "output_type": "execute_result"
    }
   ],
   "source": [
    "#now splitting the train and test equally\n",
    "\n",
    "\n",
    "\n",
    "from sklearn.model_selection import train_test_split\n",
    "X_train, X_test, Y_train, Y_test = train_test_split(X_data,y_data,test_size = 0.35)\n",
    "\n",
    "X_train.shape\n",
    "\n",
    "\n"
   ]
  },
  {
   "cell_type": "code",
   "execution_count": 102,
   "metadata": {},
   "outputs": [],
   "source": [
    "#creating a list to store all the accuracies of all the models\n",
    "\n",
    "accuracies=[]\n",
    "accuracy_labels =[]"
   ]
  },
  {
   "cell_type": "code",
   "execution_count": 83,
   "metadata": {},
   "outputs": [],
   "source": [
    "#======================================STEP 7: GAUSSIAN NAIVE BAYES THEOREM======================================="
   ]
  },
  {
   "cell_type": "code",
   "execution_count": 84,
   "metadata": {},
   "outputs": [],
   "source": [
    "#applying the training models on train data\n",
    "\n",
    "\n",
    "\n",
    "from sklearn.naive_bayes import GaussianNB,BernoulliNB\n",
    "from sklearn import metrics"
   ]
  },
  {
   "cell_type": "code",
   "execution_count": 85,
   "metadata": {},
   "outputs": [
    {
     "data": {
      "text/plain": [
       "GaussianNB(priors=None, var_smoothing=1e-09)"
      ]
     },
     "execution_count": 85,
     "metadata": {},
     "output_type": "execute_result"
    }
   ],
   "source": [
    "Gaussian_model = GaussianNB() #  making the object of gaussian naive bayes\n",
    "Gaussian_model.fit(X_train,Y_train)"
   ]
  },
  {
   "cell_type": "code",
   "execution_count": 86,
   "metadata": {},
   "outputs": [
    {
     "name": "stdout",
     "output_type": "stream",
     "text": [
      "Target on train data [0 4 1 ... 0 4 1]\n"
     ]
    }
   ],
   "source": [
    "predict_train_gaussian = Gaussian_model.predict(X_test)\n",
    "print('Target on train data',predict_train_gaussian) "
   ]
  },
  {
   "cell_type": "code",
   "execution_count": 87,
   "metadata": {},
   "outputs": [],
   "source": [
    "classification_report = metrics.classification_report (Y_test, predict_train_gaussian)"
   ]
  },
  {
   "cell_type": "code",
   "execution_count": 88,
   "metadata": {},
   "outputs": [
    {
     "name": "stdout",
     "output_type": "stream",
     "text": [
      "              precision    recall  f1-score   support\n",
      "\n",
      "           0       0.98      0.74      0.84     18653\n",
      "           1       0.80      0.76      0.78     27050\n",
      "           2       0.98      0.17      0.29      4887\n",
      "           3       0.08      0.07      0.07      1304\n",
      "           4       0.01      1.00      0.02        87\n",
      "\n",
      "    accuracy                           0.68     51981\n",
      "   macro avg       0.57      0.55      0.40     51981\n",
      "weighted avg       0.86      0.68      0.74     51981\n",
      "\n"
     ]
    }
   ],
   "source": [
    "print(classification_report) # we can show that using gaussian NB the results are very poor"
   ]
  },
  {
   "cell_type": "code",
   "execution_count": 89,
   "metadata": {},
   "outputs": [
    {
     "data": {
      "text/plain": [
       "BernoulliNB(alpha=1.0, binarize=0.0, class_prior=None, fit_prior=True)"
      ]
     },
     "execution_count": 89,
     "metadata": {},
     "output_type": "execute_result"
    }
   ],
   "source": [
    "# now applying bernoulli NB for binary features that is bernoulli naive bayes\n",
    "from sklearn.naive_bayes import BernoulliNB \n",
    "bernoulli_model = BernoulliNB()\n",
    "bernoulli_model.fit(X_train,Y_train)"
   ]
  },
  {
   "cell_type": "code",
   "execution_count": 90,
   "metadata": {},
   "outputs": [
    {
     "name": "stdout",
     "output_type": "stream",
     "text": [
      "Target on train data [2 1 1 ... 0 0 1]\n",
      "results on train data\n",
      "              precision    recall  f1-score   support\n",
      "\n",
      "           0       0.94      0.77      0.85     34732\n",
      "           1       0.95      0.83      0.88     50004\n",
      "           2       0.67      0.69      0.68      9190\n",
      "           3       0.15      0.92      0.26      2445\n",
      "           4       0.00      0.00      0.00       165\n",
      "\n",
      "    accuracy                           0.80     96536\n",
      "   macro avg       0.54      0.64      0.53     96536\n",
      "weighted avg       0.90      0.80      0.84     96536\n",
      "\n"
     ]
    },
    {
     "name": "stderr",
     "output_type": "stream",
     "text": [
      "C:\\Users\\Rehan\\Anaconda3\\lib\\site-packages\\sklearn\\metrics\\_classification.py:1272: UndefinedMetricWarning: Precision and F-score are ill-defined and being set to 0.0 in labels with no predicted samples. Use `zero_division` parameter to control this behavior.\n",
      "  _warn_prf(average, modifier, msg_start, len(result))\n"
     ]
    }
   ],
   "source": [
    "#results on train data\n",
    "predict_train_bernoulli = bernoulli_model.predict(X_train)\n",
    "print('Target on train data',predict_train_bernoulli) \n",
    "print('results on train data')\n",
    "classification_report_bernoulli = metrics.classification_report (Y_train, predict_train_bernoulli)\n",
    "print(classification_report_bernoulli)\n"
   ]
  },
  {
   "cell_type": "code",
   "execution_count": 91,
   "metadata": {},
   "outputs": [
    {
     "name": "stdout",
     "output_type": "stream",
     "text": [
      "results on test data\n",
      "              precision    recall  f1-score   support\n",
      "\n",
      "           0       0.94      0.77      0.85     18653\n",
      "           1       0.95      0.83      0.88     27050\n",
      "           2       0.67      0.68      0.68      4887\n",
      "           3       0.15      0.93      0.26      1304\n",
      "           4       0.00      0.00      0.00        87\n",
      "\n",
      "    accuracy                           0.80     51981\n",
      "   macro avg       0.54      0.64      0.53     51981\n",
      "weighted avg       0.90      0.80      0.83     51981\n",
      "\n"
     ]
    },
    {
     "name": "stderr",
     "output_type": "stream",
     "text": [
      "C:\\Users\\Rehan\\Anaconda3\\lib\\site-packages\\sklearn\\metrics\\_classification.py:1272: UndefinedMetricWarning: Precision and F-score are ill-defined and being set to 0.0 in labels with no predicted samples. Use `zero_division` parameter to control this behavior.\n",
      "  _warn_prf(average, modifier, msg_start, len(result))\n"
     ]
    }
   ],
   "source": [
    "\n",
    "\n",
    "#results on test data\n",
    "      \n",
    "predict_test_bernoulli= bernoulli_model.predict(X_test)\n",
    "\n",
    "print('results on test data')\n",
    "classification_report_bernoulli = metrics.classification_report (Y_test, predict_test_bernoulli)\n",
    "print(classification_report_bernoulli)"
   ]
  },
  {
   "cell_type": "code",
   "execution_count": 144,
   "metadata": {},
   "outputs": [
    {
     "name": "stdout",
     "output_type": "stream",
     "text": [
      "accuracy_score on test dataset :  0.7953290625420827\n"
     ]
    }
   ],
   "source": [
    "accuracy_test_bernoulli = metrics.accuracy_score(Y_test,predict_test_bernoulli)\n",
    "print('accuracy_score on test dataset : ', accuracy_test_bernoulli)\n",
    "#we can see from above results that test and train data from bernoulli Naive Bayes Algo give satisfactory prediction results\n",
    "\n",
    "accuracies.append(accuracy_test_bernoulli)\n",
    "accuracy_labels.append(\"bernoulli_NB\")"
   ]
  },
  {
   "cell_type": "code",
   "execution_count": 93,
   "metadata": {},
   "outputs": [
    {
     "data": {
      "text/plain": [
       "array([[14415,  1100,   699,  2439,     0],\n",
       "       [  200, 22376,   865,  3609,     0],\n",
       "       [  695,    52,  3340,   800,     0],\n",
       "       [    3,    43,    47,  1211,     0],\n",
       "       [    0,     2,     2,    83,     0]], dtype=int64)"
      ]
     },
     "execution_count": 93,
     "metadata": {},
     "output_type": "execute_result"
    }
   ],
   "source": [
    "cm_bernoulli = metrics.confusion_matrix(Y_test,predict_test_bernoulli)\n",
    "cm_bernoulli"
   ]
  },
  {
   "cell_type": "code",
   "execution_count": 94,
   "metadata": {},
   "outputs": [
    {
     "data": {
      "image/png": "[encoded data removed]",
      "text/plain": [
       "<Figure size 936x720 with 2 Axes>"
      ]
     },
     "metadata": {},
     "output_type": "display_data"
    }
   ],
   "source": [
    "\n",
    "\n",
    "sn.heatmap(cm_bernoulli, annot=True,  fmt='.2f', xticklabels = [\"class0\", \"class1\",\"class 2\",\"class 3\",\"class4\"] , yticklabels = [\"class0\", \"class1\",\"class2\",\"class3\",\"class4\"],cbar=True)\n",
    "plt.xlabel('True label',fontsize=12)\n",
    "plt.ylabel('Predicted label',fontsize=12)\n",
    "\n",
    "sn.set(rc={'figure.figsize':(13,10)})"
   ]
  },
  {
   "cell_type": "code",
   "execution_count": 95,
   "metadata": {},
   "outputs": [],
   "source": [
    "#results of applying bernoulli \n"
   ]
  },
  {
   "cell_type": "code",
   "execution_count": 96,
   "metadata": {},
   "outputs": [],
   "source": [
    "# ============================Step8 : Logistic Regression ==========================================================="
   ]
  },
  {
   "cell_type": "code",
   "execution_count": 97,
   "metadata": {},
   "outputs": [
    {
     "name": "stdout",
     "output_type": "stream",
     "text": [
      "Target on train data [0 0 1 ... 0 0 1]\n",
      "              precision    recall  f1-score   support\n",
      "\n",
      "           0       0.87      0.87      0.87     34732\n",
      "           1       0.87      0.95      0.91     50004\n",
      "           2       0.83      0.67      0.74      9190\n",
      "           3       0.73      0.01      0.01      2445\n",
      "           4       0.00      0.00      0.00       165\n",
      "\n",
      "    accuracy                           0.87     96536\n",
      "   macro avg       0.66      0.50      0.51     96536\n",
      "weighted avg       0.86      0.87      0.85     96536\n",
      "\n",
      "accuracy_score on train dataset :  0.8678213309024613\n"
     ]
    },
    {
     "name": "stderr",
     "output_type": "stream",
     "text": [
      "C:\\Users\\Rehan\\Anaconda3\\lib\\site-packages\\sklearn\\metrics\\_classification.py:1272: UndefinedMetricWarning: Precision and F-score are ill-defined and being set to 0.0 in labels with no predicted samples. Use `zero_division` parameter to control this behavior.\n",
      "  _warn_prf(average, modifier, msg_start, len(result))\n"
     ]
    }
   ],
   "source": [
    "from sklearn.linear_model import LogisticRegression\n",
    "\n",
    "#multinomial logistic regression using saga algorithm\n",
    "model_LR = LogisticRegression(solver = 'saga',multi_class='multinomial',max_iter=30000)\n",
    "\n",
    "model_LR.fit(X_train,Y_train)\n",
    "\n",
    "# # coefficeints of the trained model\n",
    "# print('Coefficient of model :', model.coef_)\n",
    "\n",
    "# # intercept of the model\n",
    "# print('Intercept of model',model.intercept_)\n",
    "\n",
    "# predict the target on the train dataset\n",
    "predict_train_LR = model_LR.predict(X_train)\n",
    "print('Target on train data',predict_train_LR) \n",
    "\n",
    "\n",
    "\n",
    "classification_report_LR = metrics.classification_report (Y_train, predict_train_LR)\n",
    "print(classification_report_LR)\n",
    "\n",
    "\n",
    "# Accuray Score on train dataset\n",
    "accuracy_train_LR = metrics.accuracy_score(Y_train,predict_train_LR)\n",
    "print('accuracy_score on train dataset : ', accuracy_train_LR)\n"
   ]
  },
  {
   "cell_type": "code",
   "execution_count": 141,
   "metadata": {},
   "outputs": [
    {
     "name": "stdout",
     "output_type": "stream",
     "text": [
      "Target on train data [0 1 1 ... 0 0 1]\n",
      "              precision    recall  f1-score   support\n",
      "\n",
      "           0       0.87      0.87      0.87     18653\n",
      "           1       0.87      0.95      0.91     27050\n",
      "           2       0.83      0.66      0.73      4887\n",
      "           3       0.60      0.01      0.01      1304\n",
      "           4       0.00      0.00      0.00        87\n",
      "\n",
      "    accuracy                           0.87     51981\n",
      "   macro avg       0.63      0.50      0.51     51981\n",
      "weighted avg       0.86      0.87      0.85     51981\n",
      "\n",
      "accuracy_score on test dataset :  0.8673938554471826\n"
     ]
    },
    {
     "name": "stderr",
     "output_type": "stream",
     "text": [
      "C:\\Users\\Rehan\\Anaconda3\\lib\\site-packages\\sklearn\\metrics\\_classification.py:1272: UndefinedMetricWarning: Precision and F-score are ill-defined and being set to 0.0 in labels with no predicted samples. Use `zero_division` parameter to control this behavior.\n",
      "  _warn_prf(average, modifier, msg_start, len(result))\n"
     ]
    }
   ],
   "source": [
    "#checking the results of logistic regression on test data\n",
    "\n",
    "predict_test_LR = model_LR.predict(X_test)\n",
    "print('Target on train data',predict_test_LR) \n",
    "\n",
    "classification_report_LR = metrics.classification_report (Y_test, predict_test_LR)\n",
    "print(classification_report_LR)\n",
    "\n",
    "\n",
    "\n",
    "\n",
    "\n",
    "\n",
    "\n",
    "\n",
    "\n",
    "# Accuray Score on train dataset\n",
    "accuracy_test_LR = metrics.accuracy_score(Y_test,predict_test_LR)\n",
    "print('accuracy_score on test dataset : ', accuracy_test_LR)\n",
    "\n",
    "\n",
    "\n",
    "accuracies.append(accuracy_test_LR)\n",
    "accuracy_labels.append(\"Logistic Regression\")"
   ]
  },
  {
   "cell_type": "code",
   "execution_count": 99,
   "metadata": {},
   "outputs": [
    {
     "data": {
      "text/plain": [
       "array([[14415,  1100,   699,  2439,     0],\n",
       "       [  200, 22376,   865,  3609,     0],\n",
       "       [  695,    52,  3340,   800,     0],\n",
       "       [    3,    43,    47,  1211,     0],\n",
       "       [    0,     2,     2,    83,     0]], dtype=int64)"
      ]
     },
     "execution_count": 99,
     "metadata": {},
     "output_type": "execute_result"
    }
   ],
   "source": [
    "cm_logistic = metrics.confusion_matrix(Y_test,predict_test_bernoulli)\n",
    "cm_logistic"
   ]
  },
  {
   "cell_type": "code",
   "execution_count": 100,
   "metadata": {},
   "outputs": [
    {
     "data": {
      "image/png": "[encoded data removed]",
      "text/plain": [
       "<Figure size 936x720 with 2 Axes>"
      ]
     },
     "metadata": {},
     "output_type": "display_data"
    }
   ],
   "source": [
    "sn.heatmap(cm_bernoulli, annot=True,  fmt='.2f', xticklabels = [\"class0\", \"class1\",\"class 2\",\"class 3\",\"class4\"] , yticklabels = [\"class0\", \"class1\",\"class2\",\"class3\",\"class4\"],cbar=True)\n",
    "plt.xlabel('True label',fontsize=12)\n",
    "plt.ylabel('Predicted label',fontsize=12)\n",
    "\n",
    "sn.set(rc={'figure.figsize':(13,10)})"
   ]
  },
  {
   "cell_type": "code",
   "execution_count": 140,
   "metadata": {},
   "outputs": [],
   "source": [
    "#if we use the basic two class logistic regression\n",
    "\n",
    "for i in Ytrain:\n",
    "    if i == 1:\n",
    "        i=1\n",
    "    else:\n",
    "        i=0\n"
   ]
  },
  {
   "cell_type": "code",
   "execution_count": 141,
   "metadata": {},
   "outputs": [
    {
     "name": "stdout",
     "output_type": "stream",
     "text": [
      "Target on train data [0 0 1 ... 1 1 1]\n",
      "accuracy_score on test dataset :  0.6250443577004968\n"
     ]
    }
   ],
   "source": [
    "# #=======================================Step 9logistic regression on two classes ============================\n",
    "# model = LogisticRegression(solver = \"liblinear\",max_iter =3000)\n",
    "\n",
    "# model.fit(X_train,Ytrain)\n",
    "\n",
    "# # # coefficeints of the trained model\n",
    "# # print('Coefficient of model :', model.coef_)\n",
    "\n",
    "# # # intercept of the model\n",
    "# # print('Intercept of model',model.intercept_)\n",
    "\n",
    "# # predict the target on the train dataset\n",
    "# predict_test = model.predict(X_test)\n",
    "# print('Target on train data',predict_test) \n",
    "\n",
    "\n",
    "# accuracy_test = metrics.accuracy_score(Ytest,predict_test)\n",
    "# print('accuracy_score on test dataset : ', accuracy_test)\n",
    "\n",
    "\n"
   ]
  },
  {
   "cell_type": "code",
   "execution_count": 103,
   "metadata": {},
   "outputs": [
    {
     "data": {
      "text/plain": [
       "KNeighborsClassifier(algorithm='auto', leaf_size=30, metric='minkowski',\n",
       "                     metric_params=None, n_jobs=None, n_neighbors=5, p=2,\n",
       "                     weights='uniform')"
      ]
     },
     "execution_count": 103,
     "metadata": {},
     "output_type": "execute_result"
    }
   ],
   "source": [
    "#=======================================KNN classifier========================================================\n",
    "\n",
    "from sklearn.neighbors import KNeighborsClassifier\n",
    "from sklearn import metrics\n",
    "#defing the model\n",
    "\n",
    "\n",
    "\n",
    "model_knn = KNeighborsClassifier()\n",
    "model_knn.fit(X_train, Y_train)\n",
    "\n",
    "\n",
    "\n",
    "\n",
    "\n"
   ]
  },
  {
   "cell_type": "code",
   "execution_count": 104,
   "metadata": {},
   "outputs": [
    {
     "name": "stdout",
     "output_type": "stream",
     "text": [
      "[2 0 1 ... 0 0 1]\n",
      "accuracy_score on train dataset :  0.9051959890610757\n"
     ]
    }
   ],
   "source": [
    "\n",
    "#getting the predictions on x train\n",
    "\n",
    "\n",
    "predict_knn = model_knn.predict(X_train)\n",
    "print(predict_knn)\n",
    "\n",
    "\n",
    "\n",
    "# accuracy on X_train\n",
    "# Accuracy Score on train dataset\n",
    "accuracy_train_knn = metrics.accuracy_score(Y_train,predict_knn)\n",
    "print('accuracy_score on train dataset : ', accuracy_train_knn)\n",
    "\n"
   ]
  },
  {
   "cell_type": "code",
   "execution_count": 109,
   "metadata": {},
   "outputs": [
    {
     "name": "stdout",
     "output_type": "stream",
     "text": [
      "[0 2 1 ... 0 2 1]\n",
      "accuracy_score on train dataset :  0.9014832342586714\n",
      "              precision    recall  f1-score   support\n",
      "\n",
      "           0       0.88      0.92      0.90     18653\n",
      "           1       0.91      0.94      0.92     27050\n",
      "           2       0.96      0.82      0.88      4887\n",
      "           3       0.93      0.24      0.38      1304\n",
      "           4       0.00      0.00      0.00        87\n",
      "\n",
      "    accuracy                           0.90     51981\n",
      "   macro avg       0.74      0.58      0.62     51981\n",
      "weighted avg       0.90      0.90      0.90     51981\n",
      "\n"
     ]
    },
    {
     "name": "stderr",
     "output_type": "stream",
     "text": [
      "C:\\Users\\Rehan\\Anaconda3\\lib\\site-packages\\sklearn\\metrics\\_classification.py:1272: UndefinedMetricWarning: Precision and F-score are ill-defined and being set to 0.0 in labels with no predicted samples. Use `zero_division` parameter to control this behavior.\n",
      "  _warn_prf(average, modifier, msg_start, len(result))\n"
     ]
    }
   ],
   "source": [
    "\n",
    "predict_knn_test = model_knn.predict(X_test)\n",
    "print(predict_knn_test)\n",
    "\n",
    "\n",
    "\n",
    "# accuracy on X_train\n",
    "# Accuracy Score on train dataset\n",
    "accuracy_test_knn = metrics.accuracy_score(Y_test,predict_knn_test)\n",
    "print('accuracy_score on train dataset : ', accuracy_test_knn)\n",
    "\n",
    "\n",
    "accuracies.append(accuracy_test_knn)\n",
    "accuracy_labels.append(\"knn model\")\n",
    "\n",
    "\n",
    "classification_report_knn = metrics.classification_report (Y_test, predict_knn_test)\n",
    "print(classification_report_knn)"
   ]
  },
  {
   "cell_type": "code",
   "execution_count": 110,
   "metadata": {},
   "outputs": [
    {
     "data": {
      "text/plain": [
       "array([[17137,  1450,    66,     0,     0],\n",
       "       [ 1524, 25420,    92,    14,     0],\n",
       "       [  411,   477,  3991,     8,     0],\n",
       "       [  425,   546,    21,   312,     0],\n",
       "       [   46,    39,     2,     0,     0]], dtype=int64)"
      ]
     },
     "execution_count": 110,
     "metadata": {},
     "output_type": "execute_result"
    }
   ],
   "source": [
    "cm_knn = metrics.confusion_matrix(Y_test,predict_knn_test)\n",
    "cm_knn"
   ]
  },
  {
   "cell_type": "code",
   "execution_count": 111,
   "metadata": {},
   "outputs": [
    {
     "data": {
      "image/png": "[encoded data removed]",
      "text/plain": [
       "<Figure size 936x720 with 2 Axes>"
      ]
     },
     "metadata": {},
     "output_type": "display_data"
    }
   ],
   "source": [
    "sn.heatmap(cm_knn, annot=True,  fmt='.2f', xticklabels = [\"class0\", \"class1\",\"class 2\",\"class 3\",\"class4\"] , yticklabels = [\"class0\", \"class1\",\"class2\",\"class3\",\"class4\"],cbar=True)\n",
    "plt.xlabel('True label',fontsize=12)\n",
    "plt.ylabel('Predicted label',fontsize=12)\n",
    "\n",
    "sn.set(rc={'figure.figsize':(13,10)})"
   ]
  },
  {
   "cell_type": "code",
   "execution_count": 60,
   "metadata": {},
   "outputs": [],
   "source": [
    "#=======================================Step 10: SVM=========================================================="
   ]
  },
  {
   "cell_type": "code",
   "execution_count": 112,
   "metadata": {},
   "outputs": [
    {
     "data": {
      "text/plain": [
       "SVC(C=1.0, break_ties=False, cache_size=200, class_weight=None, coef0=0.0,\n",
       "    decision_function_shape='ovr', degree=3, gamma='scale', kernel='linear',\n",
       "    max_iter=-1, probability=False, random_state=None, shrinking=True,\n",
       "    tol=0.001, verbose=False)"
      ]
     },
     "execution_count": 112,
     "metadata": {},
     "output_type": "execute_result"
    }
   ],
   "source": [
    "from sklearn import svm\n",
    "\n",
    "\n",
    "svm_model = svm.SVC(kernel = 'linear')\n",
    "svm_model.fit(X_train,Y_train)"
   ]
  },
  {
   "cell_type": "code",
   "execution_count": 113,
   "metadata": {},
   "outputs": [
    {
     "name": "stdout",
     "output_type": "stream",
     "text": [
      "[0 0 1 ... 0 0 1]\n",
      "accuracy_score on test dataset :  0.8810599154719483\n",
      "              precision    recall  f1-score   support\n",
      "\n",
      "           0       0.94      0.86      0.89     34732\n",
      "           1       0.85      0.98      0.91     50004\n",
      "           2       0.92      0.69      0.79      9190\n",
      "           3       0.88      0.00      0.01      2445\n",
      "           4       0.00      0.00      0.00       165\n",
      "\n",
      "    accuracy                           0.88     96536\n",
      "   macro avg       0.71      0.51      0.52     96536\n",
      "weighted avg       0.88      0.88      0.87     96536\n",
      "\n"
     ]
    },
    {
     "name": "stderr",
     "output_type": "stream",
     "text": [
      "C:\\Users\\Rehan\\Anaconda3\\lib\\site-packages\\sklearn\\metrics\\_classification.py:1272: UndefinedMetricWarning: Precision and F-score are ill-defined and being set to 0.0 in labels with no predicted samples. Use `zero_division` parameter to control this behavior.\n",
      "  _warn_prf(average, modifier, msg_start, len(result))\n"
     ]
    }
   ],
   "source": [
    "\n",
    "predict_svm = svm_model.predict(X_train)\n",
    "print(predict_svm)\n",
    "\n",
    "\n",
    "\n",
    "# accuracy on X_train\n",
    "# Accuracy Score on train dataset\n",
    "accuracy_test_svm = metrics.accuracy_score(Y_train,predict_svm)\n",
    "print('accuracy_score on test dataset : ', accuracy_test_svm)\n",
    "\n",
    "\n",
    "\n",
    "\n",
    "\n",
    "classification_report_knn = metrics.classification_report (Y_train, predict_svm)\n",
    "print(classification_report_knn)"
   ]
  },
  {
   "cell_type": "code",
   "execution_count": 138,
   "metadata": {},
   "outputs": [
    {
     "name": "stdout",
     "output_type": "stream",
     "text": [
      "[0 1 1 ... 0 1 1]\n",
      "accuracy_score on test dataset :  0.8807448875550682\n",
      "              precision    recall  f1-score   support\n",
      "\n",
      "           0       0.94      0.85      0.89     18653\n",
      "           1       0.85      0.98      0.91     27050\n",
      "           2       0.92      0.68      0.78      4887\n",
      "           3       1.00      0.00      0.00      1304\n",
      "           4       0.00      0.00      0.00        87\n",
      "\n",
      "    accuracy                           0.88     51981\n",
      "   macro avg       0.74      0.50      0.52     51981\n",
      "weighted avg       0.89      0.88      0.87     51981\n",
      "\n"
     ]
    },
    {
     "name": "stderr",
     "output_type": "stream",
     "text": [
      "C:\\Users\\Rehan\\Anaconda3\\lib\\site-packages\\sklearn\\metrics\\_classification.py:1272: UndefinedMetricWarning: Precision and F-score are ill-defined and being set to 0.0 in labels with no predicted samples. Use `zero_division` parameter to control this behavior.\n",
      "  _warn_prf(average, modifier, msg_start, len(result))\n"
     ]
    }
   ],
   "source": [
    "predict_svm = svm_model.predict(X_test)\n",
    "print(predict_svm)\n",
    "\n",
    "\n",
    "\n",
    "# accuracy on X_train\n",
    "# Accuracy Score on train dataset\n",
    "accuracy_test_svm = metrics.accuracy_score(Y_test,predict_svm)\n",
    "print('accuracy_score on test dataset : ', accuracy_test_svm)\n",
    "\n",
    "accuracies.append(accuracy_test_svm)\n",
    "accuracy_labels.append(\"svm model\")\n",
    "\n",
    "\n",
    "\n",
    "classification_report_knn = metrics.classification_report (Y_test, predict_svm)\n",
    "print(classification_report_knn)"
   ]
  },
  {
   "cell_type": "code",
   "execution_count": 115,
   "metadata": {},
   "outputs": [
    {
     "data": {
      "text/plain": [
       "array([[15904,  2625,   124,     0,     0],\n",
       "       [  330, 26544,   176,     0,     0],\n",
       "       [  648,   907,  3332,     0,     0],\n",
       "       [   79,  1222,     1,     2,     0],\n",
       "       [    3,    84,     0,     0,     0]], dtype=int64)"
      ]
     },
     "execution_count": 115,
     "metadata": {},
     "output_type": "execute_result"
    }
   ],
   "source": [
    "cm_svm = metrics.confusion_matrix(Y_test,predict_svm)\n",
    "cm_svm"
   ]
  },
  {
   "cell_type": "code",
   "execution_count": 124,
   "metadata": {},
   "outputs": [
    {
     "data": {
      "image/png": "[encoded data removed]",
      "text/plain": [
       "<Figure size 936x720 with 2 Axes>"
      ]
     },
     "metadata": {},
     "output_type": "display_data"
    }
   ],
   "source": [
    "sn.heatmap(cm_svm, annot=True,  fmt='.2f', xticklabels = [\"class0\", \"class1\",\"class 2\",\"class 3\",\"class4\"] , yticklabels = [\"class0\", \"class1\",\"class2\",\"class3\",\"class4\"],cbar=True)\n",
    "plt.xlabel('True label',fontsize=12)\n",
    "plt.ylabel('Predicted label',fontsize=12)\n",
    "\n",
    "sn.set(rc={'figure.figsize':(20,10)})"
   ]
  },
  {
   "cell_type": "code",
   "execution_count": 64,
   "metadata": {},
   "outputs": [],
   "source": [
    "#=============================Step 10 : Decision trees clasifier========================================="
   ]
  },
  {
   "cell_type": "code",
   "execution_count": 125,
   "metadata": {},
   "outputs": [
    {
     "data": {
      "text/plain": [
       "DecisionTreeClassifier(ccp_alpha=0.0, class_weight=None, criterion='gini',\n",
       "                       max_depth=None, max_features=None, max_leaf_nodes=None,\n",
       "                       min_impurity_decrease=0.0, min_impurity_split=None,\n",
       "                       min_samples_leaf=1, min_samples_split=2,\n",
       "                       min_weight_fraction_leaf=0.0, presort='deprecated',\n",
       "                       random_state=None, splitter='best')"
      ]
     },
     "execution_count": 125,
     "metadata": {},
     "output_type": "execute_result"
    }
   ],
   "source": [
    "from sklearn.tree import DecisionTreeClassifier\n",
    "\n",
    "#calling the model and fitting in\n",
    "dt = DecisionTreeClassifier()\n",
    "dt.fit(X_train, Y_train)\n"
   ]
  },
  {
   "cell_type": "code",
   "execution_count": 126,
   "metadata": {},
   "outputs": [
    {
     "name": "stdout",
     "output_type": "stream",
     "text": [
      "[2 0 1 ... 0 0 1]\n",
      "accuracy_score on test dataset :  0.9136487942322036\n",
      "              precision    recall  f1-score   support\n",
      "\n",
      "           0       1.00      0.86      0.93     34732\n",
      "           1       0.86      1.00      0.92     50004\n",
      "           2       1.00      0.83      0.91      9190\n",
      "           3       1.00      0.27      0.43      2445\n",
      "           4       0.00      0.00      0.00       165\n",
      "\n",
      "    accuracy                           0.91     96536\n",
      "   macro avg       0.77      0.59      0.64     96536\n",
      "weighted avg       0.92      0.91      0.91     96536\n",
      "\n"
     ]
    },
    {
     "name": "stderr",
     "output_type": "stream",
     "text": [
      "C:\\Users\\Rehan\\Anaconda3\\lib\\site-packages\\sklearn\\metrics\\_classification.py:1272: UndefinedMetricWarning: Precision and F-score are ill-defined and being set to 0.0 in labels with no predicted samples. Use `zero_division` parameter to control this behavior.\n",
      "  _warn_prf(average, modifier, msg_start, len(result))\n"
     ]
    }
   ],
   "source": [
    "\n",
    "predict_tree = dt.predict(X_train)\n",
    "print(predict_tree)\n",
    "\n",
    "\n",
    "\n",
    "# accuracy on X_train\n",
    "# Accuracy Score on train dataset\n",
    "accuracy_train_tree = metrics.accuracy_score(Y_train,predict_tree)\n",
    "print('accuracy_score on test dataset : ', accuracy_train_tree)\n",
    "\n",
    "\n",
    "\n",
    "\n",
    "\n",
    "classification_report_tree = metrics.classification_report (Y_train, predict_tree)\n",
    "print(classification_report_tree)"
   ]
  },
  {
   "cell_type": "code",
   "execution_count": 127,
   "metadata": {},
   "outputs": [
    {
     "name": "stdout",
     "output_type": "stream",
     "text": [
      "[0 2 1 ... 0 1 1]\n",
      "accuracy_score on test dataset :  0.9108712798907294\n",
      "              precision    recall  f1-score   support\n",
      "\n",
      "           0       1.00      0.86      0.92     18653\n",
      "           1       0.85      1.00      0.92     27050\n",
      "           2       0.99      0.82      0.90      4887\n",
      "           3       0.96      0.24      0.38      1304\n",
      "           4       0.00      0.00      0.00        87\n",
      "\n",
      "    accuracy                           0.91     51981\n",
      "   macro avg       0.76      0.58      0.63     51981\n",
      "weighted avg       0.92      0.91      0.90     51981\n",
      "\n"
     ]
    },
    {
     "name": "stderr",
     "output_type": "stream",
     "text": [
      "C:\\Users\\Rehan\\Anaconda3\\lib\\site-packages\\sklearn\\metrics\\_classification.py:1272: UndefinedMetricWarning: Precision and F-score are ill-defined and being set to 0.0 in labels with no predicted samples. Use `zero_division` parameter to control this behavior.\n",
      "  _warn_prf(average, modifier, msg_start, len(result))\n"
     ]
    }
   ],
   "source": [
    "predict_tree_test = dt.predict(X_test)\n",
    "print(predict_tree_test)\n",
    "\n",
    "\n",
    "\n",
    "# accuracy on X_test\n",
    "# Accuracy Score on test dataset\n",
    "accuracy_test_tree = metrics.accuracy_score(Y_test,predict_tree_test)\n",
    "print('accuracy_score on test dataset : ', accuracy_test_tree)\n",
    "\n",
    "accuracies.append(accuracy_test_tree)\n",
    "accuracy_labels.append(\"Decision tree model\")\n",
    "\n",
    "\n",
    "\n",
    "classification_report_tree_test = metrics.classification_report (Y_test, predict_tree_test)\n",
    "print(classification_report_tree_test)"
   ]
  },
  {
   "cell_type": "code",
   "execution_count": 128,
   "metadata": {},
   "outputs": [
    {
     "data": {
      "text/plain": [
       "array([[15997,  2648,     8,     0,     0],\n",
       "       [    7, 27023,    10,    10,     0],\n",
       "       [    5,   864,  4015,     3,     0],\n",
       "       [    0,   986,     5,   313,     0],\n",
       "       [    0,    87,     0,     0,     0]], dtype=int64)"
      ]
     },
     "execution_count": 128,
     "metadata": {},
     "output_type": "execute_result"
    }
   ],
   "source": [
    "cm_tree = metrics.confusion_matrix(Y_test,predict_tree_test)\n",
    "cm_tree"
   ]
  },
  {
   "cell_type": "code",
   "execution_count": 129,
   "metadata": {},
   "outputs": [
    {
     "data": {
      "image/png": "[encoded data removed]",
      "text/plain": [
       "<Figure size 1440x720 with 2 Axes>"
      ]
     },
     "metadata": {},
     "output_type": "display_data"
    }
   ],
   "source": [
    "sn.heatmap(cm_tree, annot=True,  fmt='.2f', xticklabels = [\"class0\", \"class1\",\"class 2\",\"class 3\",\"class4\"] , yticklabels = [\"class0\", \"class1\",\"class2\",\"class3\",\"class4\"],cbar=True)\n",
    "plt.xlabel('True label',fontsize=12)\n",
    "plt.ylabel('Predicted label',fontsize=12)\n",
    "\n",
    "sn.set(rc={'figure.figsize':(20,10)})"
   ]
  },
  {
   "cell_type": "code",
   "execution_count": 68,
   "metadata": {},
   "outputs": [],
   "source": [
    "#========================STEP 11: Random forest classifier==========================================="
   ]
  },
  {
   "cell_type": "code",
   "execution_count": 130,
   "metadata": {},
   "outputs": [
    {
     "data": {
      "text/plain": [
       "RandomForestClassifier(bootstrap=True, ccp_alpha=0.0, class_weight=None,\n",
       "                       criterion='gini', max_depth=None, max_features='auto',\n",
       "                       max_leaf_nodes=None, max_samples=None,\n",
       "                       min_impurity_decrease=0.0, min_impurity_split=None,\n",
       "                       min_samples_leaf=1, min_samples_split=2,\n",
       "                       min_weight_fraction_leaf=0.0, n_estimators=5000,\n",
       "                       n_jobs=None, oob_score=False, random_state=None,\n",
       "                       verbose=0, warm_start=False)"
      ]
     },
     "execution_count": 130,
     "metadata": {},
     "output_type": "execute_result"
    }
   ],
   "source": [
    "from sklearn.ensemble import RandomForestClassifier\n",
    "\n",
    "# Create the model with 100 trees\n",
    "model_rfc = RandomForestClassifier(n_estimators=5000, \n",
    "                               bootstrap = True,)\n",
    "\n",
    "\n",
    "model_rfc.fit(X_train,Y_train)\n",
    "\n",
    "\n"
   ]
  },
  {
   "cell_type": "code",
   "execution_count": 131,
   "metadata": {},
   "outputs": [
    {
     "name": "stdout",
     "output_type": "stream",
     "text": [
      "[2 0 1 ... 0 0 1]\n",
      "accuracy_score on test dataset :  0.9136487942322036\n",
      "              precision    recall  f1-score   support\n",
      "\n",
      "           0       1.00      0.86      0.93     34732\n",
      "           1       0.86      1.00      0.92     50004\n",
      "           2       1.00      0.83      0.91      9190\n",
      "           3       1.00      0.27      0.43      2445\n",
      "           4       0.00      0.00      0.00       165\n",
      "\n",
      "    accuracy                           0.91     96536\n",
      "   macro avg       0.77      0.59      0.64     96536\n",
      "weighted avg       0.92      0.91      0.91     96536\n",
      "\n"
     ]
    },
    {
     "name": "stderr",
     "output_type": "stream",
     "text": [
      "C:\\Users\\Rehan\\Anaconda3\\lib\\site-packages\\sklearn\\metrics\\_classification.py:1272: UndefinedMetricWarning: Precision and F-score are ill-defined and being set to 0.0 in labels with no predicted samples. Use `zero_division` parameter to control this behavior.\n",
      "  _warn_prf(average, modifier, msg_start, len(result))\n"
     ]
    }
   ],
   "source": [
    "predict_rfc = model_rfc.predict(X_train)\n",
    "print(predict_rfc)\n",
    "\n",
    "\n",
    "\n",
    "# accuracy on X_train\n",
    "# Accuracy Score on train dataset\n",
    "accuracy_train_rfc = metrics.accuracy_score(Y_train,predict_rfc)\n",
    "print('accuracy_score on test dataset : ', accuracy_train_rfc)\n",
    "\n",
    "\n",
    "\n",
    "\n",
    "\n",
    "classification_report_rfc = metrics.classification_report (Y_train, predict_rfc)\n",
    "print(classification_report_rfc)"
   ]
  },
  {
   "cell_type": "code",
   "execution_count": 132,
   "metadata": {},
   "outputs": [
    {
     "name": "stdout",
     "output_type": "stream",
     "text": [
      "[0 2 1 ... 0 1 1]\n",
      "accuracy_score on test dataset :  0.9117562186183413\n",
      "              precision    recall  f1-score   support\n",
      "\n",
      "           0       1.00      0.86      0.92     18653\n",
      "           1       0.86      1.00      0.92     27050\n",
      "           2       1.00      0.83      0.90      4887\n",
      "           3       0.97      0.24      0.39      1304\n",
      "           4       0.00      0.00      0.00        87\n",
      "\n",
      "    accuracy                           0.91     51981\n",
      "   macro avg       0.76      0.59      0.63     51981\n",
      "weighted avg       0.92      0.91      0.91     51981\n",
      "\n"
     ]
    },
    {
     "name": "stderr",
     "output_type": "stream",
     "text": [
      "C:\\Users\\Rehan\\Anaconda3\\lib\\site-packages\\sklearn\\metrics\\_classification.py:1272: UndefinedMetricWarning: Precision and F-score are ill-defined and being set to 0.0 in labels with no predicted samples. Use `zero_division` parameter to control this behavior.\n",
      "  _warn_prf(average, modifier, msg_start, len(result))\n"
     ]
    }
   ],
   "source": [
    "predict_rfc = model_rfc.predict(X_test)\n",
    "print(predict_rfc)\n",
    "\n",
    "\n",
    "\n",
    "# accuracy on X_train\n",
    "# Accuracy Score on train dataset\n",
    "accuracy_test_rfc = metrics.accuracy_score(Y_test,predict_rfc)\n",
    "print('accuracy_score on test dataset : ', accuracy_test_rfc)\n",
    "\n",
    "\n",
    "accuracies.append(accuracy_test_rfc)\n",
    "accuracy_labels.append(\"Random forest trees model\")\n",
    "\n",
    "\n",
    "classification_report_rfc = metrics.classification_report (Y_test, predict_rfc)\n",
    "print(classification_report_rfc)\n",
    "\n",
    "\n",
    "\n"
   ]
  },
  {
   "cell_type": "code",
   "execution_count": 134,
   "metadata": {},
   "outputs": [
    {
     "data": {
      "text/plain": [
       "array([[16004,  2647,     2,     0,     0],\n",
       "       [    1, 27035,     4,    10,     0],\n",
       "       [    1,   850,  4036,     0,     0],\n",
       "       [    0,   985,     0,   319,     0],\n",
       "       [    0,    87,     0,     0,     0]], dtype=int64)"
      ]
     },
     "execution_count": 134,
     "metadata": {},
     "output_type": "execute_result"
    }
   ],
   "source": [
    "cm_rfc = metrics.confusion_matrix(Y_test,predict_rfc)\n",
    "cm_rfc"
   ]
  },
  {
   "cell_type": "code",
   "execution_count": 135,
   "metadata": {},
   "outputs": [
    {
     "data": {
      "image/png": "[encoded data removed]",
      "text/plain": [
       "<Figure size 1440x720 with 2 Axes>"
      ]
     },
     "metadata": {},
     "output_type": "display_data"
    }
   ],
   "source": [
    "sn.heatmap(cm_rfc, annot=True,  fmt='.2f', xticklabels = [\"class0\", \"class1\",\"class 2\",\"class 3\",\"class4\"] , yticklabels = [\"class0\", \"class1\",\"class2\",\"class3\",\"class4\"],cbar=True)\n",
    "plt.xlabel('True label',fontsize=12)\n",
    "plt.ylabel('Predicted label',fontsize=12)\n",
    "\n",
    "sn.set(rc={'figure.figsize':(20,10)})"
   ]
  },
  {
   "cell_type": "code",
   "execution_count": 145,
   "metadata": {},
   "outputs": [
    {
     "data": {
      "text/plain": [
       "[0.9014832342586714,\n",
       " 0.9108712798907294,\n",
       " 0.9117562186183413,\n",
       " 0.8807448875550682,\n",
       " 0.8673938554471826,\n",
       " 0.7953290625420827]"
      ]
     },
     "execution_count": 145,
     "metadata": {},
     "output_type": "execute_result"
    }
   ],
   "source": [
    "accuracies\n"
   ]
  },
  {
   "cell_type": "code",
   "execution_count": 146,
   "metadata": {},
   "outputs": [
    {
     "data": {
      "text/plain": [
       "['knn model',\n",
       " 'Decision tree model',\n",
       " 'Random forest trees model',\n",
       " 'svm model',\n",
       " 'Logistic Regression',\n",
       " 'bernoulli_NB']"
      ]
     },
     "execution_count": 146,
     "metadata": {},
     "output_type": "execute_result"
    }
   ],
   "source": [
    "accuracy_labels"
   ]
  },
  {
   "cell_type": "code",
   "execution_count": 11,
   "metadata": {},
   "outputs": [
    {
     "ename": "NameError",
     "evalue": "name 'accuracy_labels' is not defined",
     "output_type": "error",
     "traceback": [
      "\u001b[1;31m---------------------------------------------------------------------------\u001b[0m",
      "\u001b[1;31mNameError\u001b[0m                                 Traceback (most recent call last)",
      "\u001b[1;32m<ipython-input-11-13e6d76c7e3b>\u001b[0m in \u001b[0;36m<module>\u001b[1;34m\u001b[0m\n\u001b[1;32m----> 1\u001b[1;33m \u001b[0mplt\u001b[0m\u001b[1;33m.\u001b[0m\u001b[0mbarh\u001b[0m\u001b[1;33m(\u001b[0m\u001b[0maccuracy_labels\u001b[0m\u001b[1;33m,\u001b[0m \u001b[0maccuracies\u001b[0m\u001b[1;33m,\u001b[0m \u001b[0malign\u001b[0m\u001b[1;33m=\u001b[0m\u001b[1;34m'center'\u001b[0m\u001b[1;33m,\u001b[0m \u001b[0malpha\u001b[0m\u001b[1;33m=\u001b[0m\u001b[1;36m0.5\u001b[0m\u001b[1;33m,\u001b[0m \u001b[0mcolor\u001b[0m\u001b[1;33m=\u001b[0m\u001b[1;33m[\u001b[0m\u001b[1;34m'black'\u001b[0m\u001b[1;33m,\u001b[0m \u001b[1;34m'red'\u001b[0m\u001b[1;33m,\u001b[0m \u001b[1;34m'green'\u001b[0m\u001b[1;33m,\u001b[0m \u001b[1;34m'blue'\u001b[0m\u001b[1;33m,\u001b[0m \u001b[1;34m'cyan'\u001b[0m\u001b[1;33m]\u001b[0m\u001b[1;33m)\u001b[0m\u001b[1;33m\u001b[0m\u001b[1;33m\u001b[0m\u001b[0m\n\u001b[0m\u001b[0;32m      2\u001b[0m \u001b[0mplt\u001b[0m\u001b[1;33m.\u001b[0m\u001b[0myticks\u001b[0m\u001b[1;33m(\u001b[0m\u001b[0maccuracy_labels\u001b[0m\u001b[1;33m,\u001b[0m\u001b[0mfontsize\u001b[0m \u001b[1;33m=\u001b[0m \u001b[1;36m18\u001b[0m\u001b[1;33m)\u001b[0m\u001b[1;33m\u001b[0m\u001b[1;33m\u001b[0m\u001b[0m\n\u001b[0;32m      3\u001b[0m \u001b[1;33m\u001b[0m\u001b[0m\n\u001b[0;32m      4\u001b[0m \u001b[0mplt\u001b[0m\u001b[1;33m.\u001b[0m\u001b[0mtitle\u001b[0m\u001b[1;33m(\u001b[0m\u001b[1;34m'Accuracy'\u001b[0m\u001b[1;33m,\u001b[0m\u001b[0mfontsize\u001b[0m \u001b[1;33m=\u001b[0m \u001b[1;36m18\u001b[0m\u001b[1;33m)\u001b[0m\u001b[1;33m\u001b[0m\u001b[1;33m\u001b[0m\u001b[0m\n\u001b[0;32m      5\u001b[0m \u001b[0mplt\u001b[0m\u001b[1;33m.\u001b[0m\u001b[0mfigure\u001b[0m\u001b[1;33m(\u001b[0m\u001b[0mfigsize\u001b[0m\u001b[1;33m=\u001b[0m\u001b[1;33m(\u001b[0m\u001b[1;36m7\u001b[0m\u001b[1;33m,\u001b[0m\u001b[1;36m4\u001b[0m\u001b[1;33m)\u001b[0m\u001b[1;33m)\u001b[0m\u001b[1;33m\u001b[0m\u001b[1;33m\u001b[0m\u001b[0m\n",
      "\u001b[1;31mNameError\u001b[0m: name 'accuracy_labels' is not defined"
     ]
    }
   ],
   "source": [
    "plt.barh(accuracy_labels, accuracies, align='center', alpha=0.5, color=['black', 'red', 'green', 'blue', 'cyan'])\n",
    "plt.yticks(accuracy_labels,fontsize = 18)\n",
    "\n",
    "plt.title('Accuracy',fontsize = 18)\n",
    "plt.figure(figsize=(7,4))\n",
    "\n",
    "plt.show()"
   ]
  },
  {
   "cell_type": "code",
   "execution_count": null,
   "metadata": {},
   "outputs": [],
   "source": []
  }
 ],
 "metadata": {
  "kernelspec": {
   "display_name": "Python 3",
   "language": "python",
   "name": "python3"
  },
  "language_info": {
   "codemirror_mode": {
    "name": "ipython",
    "version": 3
   },
   "file_extension": ".py",
   "mimetype": "text/x-python",
   "name": "python",
   "nbconvert_exporter": "python",
   "pygments_lexer": "ipython3",
   "version": "3.7.4"
  }
 },
 "nbformat": 4,
 "nbformat_minor": 2
}
